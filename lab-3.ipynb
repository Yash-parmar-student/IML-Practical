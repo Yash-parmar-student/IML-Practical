{
 "cells": [
  {
   "cell_type": "markdown",
   "id": "f2694349",
   "metadata": {
    "papermill": {
     "duration": 0.003636,
     "end_time": "2023-09-02T10:54:01.421795",
     "exception": false,
     "start_time": "2023-09-02T10:54:01.418159",
     "status": "completed"
    },
    "tags": []
   },
   "source": [
    "**<h1 style=\"color:blue; text-align:center;font-family:cursive;\">Practical-03</h1>**"
   ]
  },
  {
   "cell_type": "code",
   "execution_count": 1,
   "id": "04d0f06a",
   "metadata": {
    "execution": {
     "iopub.execute_input": "2023-09-02T10:54:01.429628Z",
     "iopub.status.busy": "2023-09-02T10:54:01.428904Z",
     "iopub.status.idle": "2023-09-02T10:54:01.436851Z",
     "shell.execute_reply": "2023-09-02T10:54:01.436002Z"
    },
    "papermill": {
     "duration": 0.013691,
     "end_time": "2023-09-02T10:54:01.438567",
     "exception": false,
     "start_time": "2023-09-02T10:54:01.424876",
     "status": "completed"
    },
    "tags": []
   },
   "outputs": [],
   "source": [
    "import numpy as np"
   ]
  },
  {
   "cell_type": "markdown",
   "id": "38daa157",
   "metadata": {
    "papermill": {
     "duration": 0.002659,
     "end_time": "2023-09-02T10:54:01.444297",
     "exception": false,
     "start_time": "2023-09-02T10:54:01.441638",
     "status": "completed"
    },
    "tags": []
   },
   "source": [
    "**<h3>1) To split an array of 14 elements into 3 arrays, each with 2, 4, and 8 elements in the original order</h3>**"
   ]
  },
  {
   "cell_type": "code",
   "execution_count": 2,
   "id": "306b84f1",
   "metadata": {
    "execution": {
     "iopub.execute_input": "2023-09-02T10:54:01.451244Z",
     "iopub.status.busy": "2023-09-02T10:54:01.450943Z",
     "iopub.status.idle": "2023-09-02T10:54:01.458548Z",
     "shell.execute_reply": "2023-09-02T10:54:01.457079Z"
    },
    "papermill": {
     "duration": 0.013303,
     "end_time": "2023-09-02T10:54:01.460344",
     "exception": false,
     "start_time": "2023-09-02T10:54:01.447041",
     "status": "completed"
    },
    "tags": []
   },
   "outputs": [
    {
     "name": "stdout",
     "output_type": "stream",
     "text": [
      "Split Array 1: [0 1]\n",
      "Split Array 2: [2 3 4 5]\n",
      "Split Array 3: [ 6  7  8  9 10 11 12 13]\n"
     ]
    }
   ],
   "source": [
    "original_array = np.arange(14)\n",
    "\n",
    "split_arrays = np.split(original_array, [2, 6])\n",
    "\n",
    "for i, arr in enumerate(split_arrays, 1):\n",
    "    print(f\"Split Array {i}:\", arr)"
   ]
  },
  {
   "cell_type": "markdown",
   "id": "812d1a5b",
   "metadata": {
    "papermill": {
     "duration": 0.002634,
     "end_time": "2023-09-02T10:54:01.466086",
     "exception": false,
     "start_time": "2023-09-02T10:54:01.463452",
     "status": "completed"
    },
    "tags": []
   },
   "source": [
    "**<h3>2) To stack arrays horizontally (column wise)</h3>**"
   ]
  },
  {
   "cell_type": "code",
   "execution_count": 3,
   "id": "13c9af6c",
   "metadata": {
    "execution": {
     "iopub.execute_input": "2023-09-02T10:54:01.473421Z",
     "iopub.status.busy": "2023-09-02T10:54:01.472672Z",
     "iopub.status.idle": "2023-09-02T10:54:01.479169Z",
     "shell.execute_reply": "2023-09-02T10:54:01.478236Z"
    },
    "papermill": {
     "duration": 0.012027,
     "end_time": "2023-09-02T10:54:01.480926",
     "exception": false,
     "start_time": "2023-09-02T10:54:01.468899",
     "status": "completed"
    },
    "tags": []
   },
   "outputs": [
    {
     "name": "stdout",
     "output_type": "stream",
     "text": [
      "Stacked Array:\n",
      "[ 0  1  2  3  4  5  6  7  8  9 10 11 12 13]\n"
     ]
    }
   ],
   "source": [
    "array1 = np.arange(2)\n",
    "array2 = np.arange(2, 6)\n",
    "array3 = np.arange(6, 14)\n",
    "\n",
    "stacked_array = np.hstack((array1, array2, array3))\n",
    "\n",
    "print(\"Stacked Array:\")\n",
    "print(stacked_array)"
   ]
  }
 ],
 "kernelspec": {
  "display_name": "Python 3",
  "language": "python",
  "name": "python3"
 },
 "language_info": {
  "codemirror_mode": {
   "name": "ipython",
   "version": 3
  },
  "file_extension": ".py",
  "mimetype": "text/x-python",
  "name": "python",
  "nbconvert_exporter": "python",
  "pygments_lexer": "ipython3",
  "version": "3.6.4"
 },
 "metadata": {
  "kernelspec": {
   "display_name": "Python 3",
   "language": "python",
   "name": "python3"
  },
  "language_info": {
   "codemirror_mode": {
    "name": "ipython",
    "version": 3
   },
   "file_extension": ".py",
   "mimetype": "text/x-python",
   "name": "python",
   "nbconvert_exporter": "python",
   "pygments_lexer": "ipython3",
   "version": "3.10.12"
  },
  "papermill": {
   "default_parameters": {},
   "duration": 4.286419,
   "end_time": "2023-09-02T10:54:01.800969",
   "environment_variables": {},
   "exception": null,
   "input_path": "__notebook__.ipynb",
   "output_path": "__notebook__.ipynb",
   "parameters": {},
   "start_time": "2023-09-02T10:53:57.514550",
   "version": "2.4.0"
  }
 },
 "nbformat": 4,
 "nbformat_minor": 5
}
