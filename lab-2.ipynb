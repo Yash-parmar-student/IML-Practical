{
 "cells": [
  {
   "cell_type": "markdown",
   "id": "86e147fd",
   "metadata": {
    "papermill": {
     "duration": 0.005699,
     "end_time": "2023-09-01T11:42:56.973740",
     "exception": false,
     "start_time": "2023-09-01T11:42:56.968041",
     "status": "completed"
    },
    "tags": []
   },
   "source": [
    "**<h2>--> lab-2 connecting github repo with kaggle and executing some numpy programs</h2>**"
   ]
  },
  {
   "cell_type": "code",
   "execution_count": 1,
   "id": "d3b34c52",
   "metadata": {
    "_cell_guid": "b1076dfc-b9ad-4769-8c92-a6c4dae69d19",
    "_uuid": "8f2839f25d086af736a60e9eeb907d3b93b6e0e5",
    "execution": {
     "iopub.execute_input": "2023-09-01T11:42:56.985273Z",
     "iopub.status.busy": "2023-09-01T11:42:56.984917Z",
     "iopub.status.idle": "2023-09-01T11:42:56.994188Z",
     "shell.execute_reply": "2023-09-01T11:42:56.993110Z"
    },
    "papermill": {
     "duration": 0.017641,
     "end_time": "2023-09-01T11:42:56.996476",
     "exception": false,
     "start_time": "2023-09-01T11:42:56.978835",
     "status": "completed"
    },
    "tags": []
   },
   "outputs": [],
   "source": [
    "import numpy as np"
   ]
  },
  {
   "cell_type": "code",
   "execution_count": 2,
   "id": "7f331753",
   "metadata": {
    "execution": {
     "iopub.execute_input": "2023-09-01T11:42:57.008134Z",
     "iopub.status.busy": "2023-09-01T11:42:57.007383Z",
     "iopub.status.idle": "2023-09-01T11:42:57.014007Z",
     "shell.execute_reply": "2023-09-01T11:42:57.012848Z"
    },
    "papermill": {
     "duration": 0.015367,
     "end_time": "2023-09-01T11:42:57.016703",
     "exception": false,
     "start_time": "2023-09-01T11:42:57.001336",
     "status": "completed"
    },
    "tags": []
   },
   "outputs": [
    {
     "name": "stdout",
     "output_type": "stream",
     "text": [
      "a:\n",
      " [1 2 3]\n"
     ]
    }
   ],
   "source": [
    "a = np.array([1, 2, 3])\n",
    "print(\"a:\\n\", a)"
   ]
  },
  {
   "cell_type": "code",
   "execution_count": 3,
   "id": "c8cd5cc5",
   "metadata": {
    "execution": {
     "iopub.execute_input": "2023-09-01T11:42:57.027799Z",
     "iopub.status.busy": "2023-09-01T11:42:57.027155Z",
     "iopub.status.idle": "2023-09-01T11:42:57.033435Z",
     "shell.execute_reply": "2023-09-01T11:42:57.032553Z"
    },
    "papermill": {
     "duration": 0.014016,
     "end_time": "2023-09-01T11:42:57.035402",
     "exception": false,
     "start_time": "2023-09-01T11:42:57.021386",
     "status": "completed"
    },
    "tags": []
   },
   "outputs": [
    {
     "name": "stdout",
     "output_type": "stream",
     "text": [
      "b:\n",
      " [[1 2 3]\n",
      " [4 5 6]\n",
      " [7 8 9]]\n"
     ]
    }
   ],
   "source": [
    "b = np.array([[1, 2, 3], [4, 5, 6], [7, 8, 9]])\n",
    "print(\"b:\\n\", b)"
   ]
  },
  {
   "cell_type": "code",
   "execution_count": 4,
   "id": "acb69eb3",
   "metadata": {
    "execution": {
     "iopub.execute_input": "2023-09-01T11:42:57.046553Z",
     "iopub.status.busy": "2023-09-01T11:42:57.045885Z",
     "iopub.status.idle": "2023-09-01T11:42:57.052889Z",
     "shell.execute_reply": "2023-09-01T11:42:57.051893Z"
    },
    "papermill": {
     "duration": 0.014936,
     "end_time": "2023-09-01T11:42:57.054947",
     "exception": false,
     "start_time": "2023-09-01T11:42:57.040011",
     "status": "completed"
    },
    "tags": []
   },
   "outputs": [
    {
     "name": "stdout",
     "output_type": "stream",
     "text": [
      "a1: \n",
      " [1 2 3]\n",
      "\n",
      "Number of axes/dimensions in the array:  1\n",
      "Shape of the array:  (3,)\n",
      "Size of the array/Number of Elements in the:  3\n",
      "Type of the elements in the array:  int64\n",
      "Size of the elements in the array:  8\n",
      "Buffer containing the array:  <memory at 0x7fc02327f400>\n"
     ]
    }
   ],
   "source": [
    "a1 = np.array([1, 2, 3])\n",
    "print(\"a1: \\n\", a1)\n",
    "\n",
    "print(\"\\nNumber of axes/dimensions in the array: \", a1.ndim)\n",
    "print(\"Shape of the array: \", a1.shape)\n",
    "print(\"Size of the array/Number of Elements in the: \", a1.size)\n",
    "print(\"Type of the elements in the array: \", a1.dtype)\n",
    "print(\"Size of the elements in the array: \", a1.itemsize)\n",
    "print(\"Buffer containing the array: \", a1.data)"
   ]
  },
  {
   "cell_type": "markdown",
   "id": "a60025a6",
   "metadata": {
    "papermill": {
     "duration": 0.004674,
     "end_time": "2023-09-01T11:42:57.065047",
     "exception": false,
     "start_time": "2023-09-01T11:42:57.060373",
     "status": "completed"
    },
    "tags": []
   },
   "source": [
    "**<h3>1) creating one dimensions array from list</h3>**"
   ]
  },
  {
   "cell_type": "code",
   "execution_count": 5,
   "id": "19a7b9e3",
   "metadata": {
    "execution": {
     "iopub.execute_input": "2023-09-01T11:42:57.076765Z",
     "iopub.status.busy": "2023-09-01T11:42:57.076154Z",
     "iopub.status.idle": "2023-09-01T11:42:57.081832Z",
     "shell.execute_reply": "2023-09-01T11:42:57.081012Z"
    },
    "papermill": {
     "duration": 0.013897,
     "end_time": "2023-09-01T11:42:57.083748",
     "exception": false,
     "start_time": "2023-09-01T11:42:57.069851",
     "status": "completed"
    },
    "tags": []
   },
   "outputs": [
    {
     "name": "stdout",
     "output_type": "stream",
     "text": [
      "[1 2 3 4 5]\n"
     ]
    }
   ],
   "source": [
    "array = np.array([1,2,3,4,5])\n",
    "print(array)"
   ]
  },
  {
   "cell_type": "markdown",
   "id": "3310cd21",
   "metadata": {
    "papermill": {
     "duration": 0.004887,
     "end_time": "2023-09-01T11:42:57.094201",
     "exception": false,
     "start_time": "2023-09-01T11:42:57.089314",
     "status": "completed"
    },
    "tags": []
   },
   "source": [
    "**<h3>2) creating 3x3 matrix that contain values from 2 to 10</h3>**"
   ]
  },
  {
   "cell_type": "code",
   "execution_count": 6,
   "id": "a1fb30fb",
   "metadata": {
    "execution": {
     "iopub.execute_input": "2023-09-01T11:42:57.105877Z",
     "iopub.status.busy": "2023-09-01T11:42:57.104870Z",
     "iopub.status.idle": "2023-09-01T11:42:57.111619Z",
     "shell.execute_reply": "2023-09-01T11:42:57.110304Z"
    },
    "papermill": {
     "duration": 0.014569,
     "end_time": "2023-09-01T11:42:57.113572",
     "exception": false,
     "start_time": "2023-09-01T11:42:57.099003",
     "status": "completed"
    },
    "tags": []
   },
   "outputs": [
    {
     "name": "stdout",
     "output_type": "stream",
     "text": [
      "[[ 2  3  4]\n",
      " [ 5  6  7]\n",
      " [ 8  9 10]]\n"
     ]
    }
   ],
   "source": [
    "matrix = np.array([[2,3,4],[5,6,7],[8,9,10]])\n",
    "print(matrix)"
   ]
  },
  {
   "cell_type": "markdown",
   "id": "df4d8a94",
   "metadata": {
    "papermill": {
     "duration": 0.004709,
     "end_time": "2023-09-01T11:42:57.123449",
     "exception": false,
     "start_time": "2023-09-01T11:42:57.118740",
     "status": "completed"
    },
    "tags": []
   },
   "source": [
    "**<h3>3) to append values at the end of an array</h3>**"
   ]
  },
  {
   "cell_type": "code",
   "execution_count": 7,
   "id": "3b124573",
   "metadata": {
    "execution": {
     "iopub.execute_input": "2023-09-01T11:42:57.135114Z",
     "iopub.status.busy": "2023-09-01T11:42:57.134342Z",
     "iopub.status.idle": "2023-09-01T11:42:57.140867Z",
     "shell.execute_reply": "2023-09-01T11:42:57.139721Z"
    },
    "papermill": {
     "duration": 0.014568,
     "end_time": "2023-09-01T11:42:57.142885",
     "exception": false,
     "start_time": "2023-09-01T11:42:57.128317",
     "status": "completed"
    },
    "tags": []
   },
   "outputs": [
    {
     "name": "stdout",
     "output_type": "stream",
     "text": [
      "[1 2 3 4 5]\n",
      "[1 2 3 4 5 6 7 8]\n"
     ]
    }
   ],
   "source": [
    "array = np.array([1,2,3,4,5])\n",
    "print(array)\n",
    "array = np.append(array,[6,7,8])\n",
    "print(array)"
   ]
  },
  {
   "cell_type": "markdown",
   "id": "755133d0",
   "metadata": {
    "papermill": {
     "duration": 0.004663,
     "end_time": "2023-09-01T11:42:57.152763",
     "exception": false,
     "start_time": "2023-09-01T11:42:57.148100",
     "status": "completed"
    },
    "tags": []
   },
   "source": [
    "**<h3>4) to create another shape from an array without changing its data (3\\*2 to 2\\*3)</h3>**"
   ]
  },
  {
   "cell_type": "code",
   "execution_count": 8,
   "id": "39b7df67",
   "metadata": {
    "execution": {
     "iopub.execute_input": "2023-09-01T11:42:57.164540Z",
     "iopub.status.busy": "2023-09-01T11:42:57.163794Z",
     "iopub.status.idle": "2023-09-01T11:42:57.170926Z",
     "shell.execute_reply": "2023-09-01T11:42:57.169691Z"
    },
    "papermill": {
     "duration": 0.015478,
     "end_time": "2023-09-01T11:42:57.173067",
     "exception": false,
     "start_time": "2023-09-01T11:42:57.157589",
     "status": "completed"
    },
    "tags": []
   },
   "outputs": [
    {
     "name": "stdout",
     "output_type": "stream",
     "text": [
      "matrix 3*2 : \n",
      " [[2 3 4]\n",
      " [5 6 7]]\n",
      "matrix 2*3 :  [[2 3]\n",
      " [4 5]\n",
      " [6 7]]\n"
     ]
    }
   ],
   "source": [
    "matrix = np.array([[2,3,4],[5,6,7]])\n",
    "print(\"matrix 3*2 : \\n\", matrix)\n",
    "matrix = np.array([[2,3],[4,5],[6,7]])\n",
    "print(\"matrix 2*3 : \", matrix)"
   ]
  }
 ],
 "kernelspec": {
  "display_name": "Python 3",
  "language": "python",
  "name": "python3"
 },
 "language_info": {
  "codemirror_mode": {
   "name": "ipython",
   "version": 3
  },
  "file_extension": ".py",
  "mimetype": "text/x-python",
  "name": "python",
  "nbconvert_exporter": "python",
  "pygments_lexer": "ipython3",
  "version": "3.6.4"
 },
 "metadata": {
  "kernelspec": {
   "display_name": "Python 3",
   "language": "python",
   "name": "python3"
  },
  "language_info": {
   "codemirror_mode": {
    "name": "ipython",
    "version": 3
   },
   "file_extension": ".py",
   "mimetype": "text/x-python",
   "name": "python",
   "nbconvert_exporter": "python",
   "pygments_lexer": "ipython3",
   "version": "3.10.12"
  },
  "papermill": {
   "default_parameters": {},
   "duration": 3.693492,
   "end_time": "2023-09-01T11:42:57.501644",
   "environment_variables": {},
   "exception": null,
   "input_path": "__notebook__.ipynb",
   "output_path": "__notebook__.ipynb",
   "parameters": {},
   "start_time": "2023-09-01T11:42:53.808152",
   "version": "2.4.0"
  }
 },
 "nbformat": 4,
 "nbformat_minor": 5
}
