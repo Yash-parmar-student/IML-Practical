{
 "cells": [
  {
   "cell_type": "code",
   "execution_count": 1,
   "id": "59c87421",
   "metadata": {
    "_cell_guid": "b1076dfc-b9ad-4769-8c92-a6c4dae69d19",
    "_uuid": "8f2839f25d086af736a60e9eeb907d3b93b6e0e5",
    "execution": {
     "iopub.execute_input": "2023-09-01T11:03:27.053429Z",
     "iopub.status.busy": "2023-09-01T11:03:27.052686Z",
     "iopub.status.idle": "2023-09-01T11:03:27.065463Z",
     "shell.execute_reply": "2023-09-01T11:03:27.064080Z"
    },
    "papermill": {
     "duration": 0.021191,
     "end_time": "2023-09-01T11:03:27.068246",
     "exception": false,
     "start_time": "2023-09-01T11:03:27.047055",
     "status": "completed"
    },
    "tags": []
   },
   "outputs": [],
   "source": [
    "import numpy as np"
   ]
  },
  {
   "cell_type": "code",
   "execution_count": 2,
   "id": "10e2f124",
   "metadata": {
    "execution": {
     "iopub.execute_input": "2023-09-01T11:03:27.077884Z",
     "iopub.status.busy": "2023-09-01T11:03:27.077101Z",
     "iopub.status.idle": "2023-09-01T11:03:27.087301Z",
     "shell.execute_reply": "2023-09-01T11:03:27.085910Z"
    },
    "papermill": {
     "duration": 0.017888,
     "end_time": "2023-09-01T11:03:27.089797",
     "exception": false,
     "start_time": "2023-09-01T11:03:27.071909",
     "status": "completed"
    },
    "tags": []
   },
   "outputs": [
    {
     "name": "stdout",
     "output_type": "stream",
     "text": [
      "a:\n",
      " [1 2 3]\n"
     ]
    }
   ],
   "source": [
    "a = np.array([1, 2, 3])\n",
    "print(\"a:\\n\", a)"
   ]
  },
  {
   "cell_type": "code",
   "execution_count": 3,
   "id": "761b9ec2",
   "metadata": {
    "execution": {
     "iopub.execute_input": "2023-09-01T11:03:27.098294Z",
     "iopub.status.busy": "2023-09-01T11:03:27.097898Z",
     "iopub.status.idle": "2023-09-01T11:03:27.103299Z",
     "shell.execute_reply": "2023-09-01T11:03:27.102299Z"
    },
    "papermill": {
     "duration": 0.012153,
     "end_time": "2023-09-01T11:03:27.105486",
     "exception": false,
     "start_time": "2023-09-01T11:03:27.093333",
     "status": "completed"
    },
    "tags": []
   },
   "outputs": [
    {
     "name": "stdout",
     "output_type": "stream",
     "text": [
      "b:\n",
      " [[1 2 3]\n",
      " [4 5 6]\n",
      " [7 8 9]]\n"
     ]
    }
   ],
   "source": [
    "b = np.array([[1, 2, 3], [4, 5, 6], [7, 8, 9]])\n",
    "print(\"b:\\n\", b)"
   ]
  },
  {
   "cell_type": "code",
   "execution_count": 4,
   "id": "4e0e0e4d",
   "metadata": {
    "execution": {
     "iopub.execute_input": "2023-09-01T11:03:27.113714Z",
     "iopub.status.busy": "2023-09-01T11:03:27.113332Z",
     "iopub.status.idle": "2023-09-01T11:03:27.119842Z",
     "shell.execute_reply": "2023-09-01T11:03:27.119032Z"
    },
    "papermill": {
     "duration": 0.013111,
     "end_time": "2023-09-01T11:03:27.122016",
     "exception": false,
     "start_time": "2023-09-01T11:03:27.108905",
     "status": "completed"
    },
    "tags": []
   },
   "outputs": [
    {
     "name": "stdout",
     "output_type": "stream",
     "text": [
      "a1: \n",
      " [1 2 3]\n",
      "\n",
      "Number of axes/dimensions in the array:  1\n",
      "Shape of the array:  (3,)\n",
      "Size of the array/Number of Elements in the:  3\n",
      "Type of the elements in the array:  int64\n",
      "Size of the elements in the array:  8\n",
      "Buffer containing the array:  <memory at 0x7e79098a7400>\n"
     ]
    }
   ],
   "source": [
    "a1 = np.array([1, 2, 3])\n",
    "print(\"a1: \\n\", a1)\n",
    "\n",
    "print(\"\\nNumber of axes/dimensions in the array: \", a1.ndim)\n",
    "print(\"Shape of the array: \", a1.shape)\n",
    "print(\"Size of the array/Number of Elements in the: \", a1.size)\n",
    "print(\"Type of the elements in the array: \", a1.dtype)\n",
    "print(\"Size of the elements in the array: \", a1.itemsize)\n",
    "print(\"Buffer containing the array: \", a1.data)"
   ]
  }
 ],
 "kernelspec": {
  "display_name": "Python 3",
  "language": "python",
  "name": "python3"
 },
 "language_info": {
  "codemirror_mode": {
   "name": "ipython",
   "version": 3
  },
  "file_extension": ".py",
  "mimetype": "text/x-python",
  "name": "python",
  "nbconvert_exporter": "python",
  "pygments_lexer": "ipython3",
  "version": "3.6.4"
 },
 "metadata": {
  "kernelspec": {
   "display_name": "Python 3",
   "language": "python",
   "name": "python3"
  },
  "language_info": {
   "codemirror_mode": {
    "name": "ipython",
    "version": 3
   },
   "file_extension": ".py",
   "mimetype": "text/x-python",
   "name": "python",
   "nbconvert_exporter": "python",
   "pygments_lexer": "ipython3",
   "version": "3.10.12"
  },
  "papermill": {
   "default_parameters": {},
   "duration": 3.825083,
   "end_time": "2023-09-01T11:03:27.544906",
   "environment_variables": {},
   "exception": null,
   "input_path": "__notebook__.ipynb",
   "output_path": "__notebook__.ipynb",
   "parameters": {},
   "start_time": "2023-09-01T11:03:23.719823",
   "version": "2.4.0"
  }
 },
 "nbformat": 4,
 "nbformat_minor": 5
}
