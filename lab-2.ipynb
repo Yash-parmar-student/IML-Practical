{
 "cells": [
  {
   "cell_type": "markdown",
   "id": "d100962a",
   "metadata": {
    "papermill": {
     "duration": 0.007233,
     "end_time": "2023-09-01T11:50:32.448987",
     "exception": false,
     "start_time": "2023-09-01T11:50:32.441754",
     "status": "completed"
    },
    "tags": []
   },
   "source": [
    "**<h2>--> lab-2 connecting github repo with kaggle and executing some numpy programs</h2>**"
   ]
  },
  {
   "cell_type": "code",
   "execution_count": 1,
   "id": "ba447830",
   "metadata": {
    "_cell_guid": "b1076dfc-b9ad-4769-8c92-a6c4dae69d19",
    "_uuid": "8f2839f25d086af736a60e9eeb907d3b93b6e0e5",
    "execution": {
     "iopub.execute_input": "2023-09-01T11:50:32.464039Z",
     "iopub.status.busy": "2023-09-01T11:50:32.463621Z",
     "iopub.status.idle": "2023-09-01T11:50:32.475971Z",
     "shell.execute_reply": "2023-09-01T11:50:32.475059Z"
    },
    "papermill": {
     "duration": 0.022708,
     "end_time": "2023-09-01T11:50:32.478477",
     "exception": false,
     "start_time": "2023-09-01T11:50:32.455769",
     "status": "completed"
    },
    "tags": []
   },
   "outputs": [],
   "source": [
    "import numpy as np"
   ]
  },
  {
   "cell_type": "code",
   "execution_count": 2,
   "id": "e813b6a8",
   "metadata": {
    "execution": {
     "iopub.execute_input": "2023-09-01T11:50:32.493604Z",
     "iopub.status.busy": "2023-09-01T11:50:32.492927Z",
     "iopub.status.idle": "2023-09-01T11:50:32.500594Z",
     "shell.execute_reply": "2023-09-01T11:50:32.499408Z"
    },
    "papermill": {
     "duration": 0.018326,
     "end_time": "2023-09-01T11:50:32.503362",
     "exception": false,
     "start_time": "2023-09-01T11:50:32.485036",
     "status": "completed"
    },
    "tags": []
   },
   "outputs": [
    {
     "name": "stdout",
     "output_type": "stream",
     "text": [
      "a:\n",
      " [1 2 3]\n"
     ]
    }
   ],
   "source": [
    "a = np.array([1, 2, 3])\n",
    "print(\"a:\\n\", a)"
   ]
  },
  {
   "cell_type": "code",
   "execution_count": 3,
   "id": "7f26fa1a",
   "metadata": {
    "execution": {
     "iopub.execute_input": "2023-09-01T11:50:32.518637Z",
     "iopub.status.busy": "2023-09-01T11:50:32.518254Z",
     "iopub.status.idle": "2023-09-01T11:50:32.524331Z",
     "shell.execute_reply": "2023-09-01T11:50:32.523135Z"
    },
    "papermill": {
     "duration": 0.017164,
     "end_time": "2023-09-01T11:50:32.527359",
     "exception": false,
     "start_time": "2023-09-01T11:50:32.510195",
     "status": "completed"
    },
    "tags": []
   },
   "outputs": [
    {
     "name": "stdout",
     "output_type": "stream",
     "text": [
      "b:\n",
      " [[1 2 3]\n",
      " [4 5 6]\n",
      " [7 8 9]]\n"
     ]
    }
   ],
   "source": [
    "b = np.array([[1, 2, 3], [4, 5, 6], [7, 8, 9]])\n",
    "print(\"b:\\n\", b)"
   ]
  },
  {
   "cell_type": "code",
   "execution_count": 4,
   "id": "05f364ed",
   "metadata": {
    "execution": {
     "iopub.execute_input": "2023-09-01T11:50:32.542511Z",
     "iopub.status.busy": "2023-09-01T11:50:32.542130Z",
     "iopub.status.idle": "2023-09-01T11:50:32.549322Z",
     "shell.execute_reply": "2023-09-01T11:50:32.548218Z"
    },
    "papermill": {
     "duration": 0.01831,
     "end_time": "2023-09-01T11:50:32.552242",
     "exception": false,
     "start_time": "2023-09-01T11:50:32.533932",
     "status": "completed"
    },
    "tags": []
   },
   "outputs": [
    {
     "name": "stdout",
     "output_type": "stream",
     "text": [
      "a1: \n",
      " [1 2 3]\n",
      "\n",
      "Number of axes/dimensions in the array:  1\n",
      "Shape of the array:  (3,)\n",
      "Size of the array/Number of Elements in the:  3\n",
      "Type of the elements in the array:  int64\n",
      "Size of the elements in the array:  8\n",
      "Buffer containing the array:  <memory at 0x7ba21b467400>\n"
     ]
    }
   ],
   "source": [
    "a1 = np.array([1, 2, 3])\n",
    "print(\"a1: \\n\", a1)\n",
    "\n",
    "print(\"\\nNumber of axes/dimensions in the array: \", a1.ndim)\n",
    "print(\"Shape of the array: \", a1.shape)\n",
    "print(\"Size of the array/Number of Elements in the: \", a1.size)\n",
    "print(\"Type of the elements in the array: \", a1.dtype)\n",
    "print(\"Size of the elements in the array: \", a1.itemsize)\n",
    "print(\"Buffer containing the array: \", a1.data)"
   ]
  },
  {
   "cell_type": "markdown",
   "id": "a269cc43",
   "metadata": {
    "papermill": {
     "duration": 0.006461,
     "end_time": "2023-09-01T11:50:32.565584",
     "exception": false,
     "start_time": "2023-09-01T11:50:32.559123",
     "status": "completed"
    },
    "tags": []
   },
   "source": [
    "**<h3>1) creating one dimensions array from list</h3>**"
   ]
  },
  {
   "cell_type": "code",
   "execution_count": 5,
   "id": "97d3ecb7",
   "metadata": {
    "execution": {
     "iopub.execute_input": "2023-09-01T11:50:32.580694Z",
     "iopub.status.busy": "2023-09-01T11:50:32.580331Z",
     "iopub.status.idle": "2023-09-01T11:50:32.585516Z",
     "shell.execute_reply": "2023-09-01T11:50:32.584690Z"
    },
    "papermill": {
     "duration": 0.015797,
     "end_time": "2023-09-01T11:50:32.588030",
     "exception": false,
     "start_time": "2023-09-01T11:50:32.572233",
     "status": "completed"
    },
    "tags": []
   },
   "outputs": [
    {
     "name": "stdout",
     "output_type": "stream",
     "text": [
      "[1 2 3 4 5]\n"
     ]
    }
   ],
   "source": [
    "array = np.array([1,2,3,4,5])\n",
    "print(array)"
   ]
  },
  {
   "cell_type": "markdown",
   "id": "203f45ee",
   "metadata": {
    "papermill": {
     "duration": 0.006498,
     "end_time": "2023-09-01T11:50:32.601326",
     "exception": false,
     "start_time": "2023-09-01T11:50:32.594828",
     "status": "completed"
    },
    "tags": []
   },
   "source": [
    "**<h3>2) creating 3x3 matrix that contain values from 2 to 10</h3>**"
   ]
  },
  {
   "cell_type": "code",
   "execution_count": 6,
   "id": "1dc75a26",
   "metadata": {
    "execution": {
     "iopub.execute_input": "2023-09-01T11:50:32.616608Z",
     "iopub.status.busy": "2023-09-01T11:50:32.616212Z",
     "iopub.status.idle": "2023-09-01T11:50:32.622862Z",
     "shell.execute_reply": "2023-09-01T11:50:32.621690Z"
    },
    "papermill": {
     "duration": 0.01733,
     "end_time": "2023-09-01T11:50:32.625392",
     "exception": false,
     "start_time": "2023-09-01T11:50:32.608062",
     "status": "completed"
    },
    "tags": []
   },
   "outputs": [
    {
     "name": "stdout",
     "output_type": "stream",
     "text": [
      "[[ 2  3  4]\n",
      " [ 5  6  7]\n",
      " [ 8  9 10]]\n"
     ]
    }
   ],
   "source": [
    "matrix = np.array([[2,3,4],[5,6,7],[8,9,10]])\n",
    "print(matrix)"
   ]
  },
  {
   "cell_type": "markdown",
   "id": "617eead2",
   "metadata": {
    "papermill": {
     "duration": 0.006646,
     "end_time": "2023-09-01T11:50:32.639405",
     "exception": false,
     "start_time": "2023-09-01T11:50:32.632759",
     "status": "completed"
    },
    "tags": []
   },
   "source": [
    "**<h3>3) to append values at the end of an array</h3>**"
   ]
  },
  {
   "cell_type": "code",
   "execution_count": 7,
   "id": "d664209c",
   "metadata": {
    "execution": {
     "iopub.execute_input": "2023-09-01T11:50:32.654811Z",
     "iopub.status.busy": "2023-09-01T11:50:32.654424Z",
     "iopub.status.idle": "2023-09-01T11:50:32.661309Z",
     "shell.execute_reply": "2023-09-01T11:50:32.660157Z"
    },
    "papermill": {
     "duration": 0.018159,
     "end_time": "2023-09-01T11:50:32.664439",
     "exception": false,
     "start_time": "2023-09-01T11:50:32.646280",
     "status": "completed"
    },
    "tags": []
   },
   "outputs": [
    {
     "name": "stdout",
     "output_type": "stream",
     "text": [
      "[1 2 3 4 5]\n",
      "[1 2 3 4 5 6 7 8]\n"
     ]
    }
   ],
   "source": [
    "array = np.array([1,2,3,4,5])\n",
    "print(array)\n",
    "array = np.append(array,[6,7,8])\n",
    "print(array)"
   ]
  },
  {
   "cell_type": "markdown",
   "id": "2ff0f1df",
   "metadata": {
    "papermill": {
     "duration": 0.007046,
     "end_time": "2023-09-01T11:50:32.678634",
     "exception": false,
     "start_time": "2023-09-01T11:50:32.671588",
     "status": "completed"
    },
    "tags": []
   },
   "source": [
    "**<h3>4) to create another shape from an array without changing its data (3x2 to 2x3)</h3>**"
   ]
  },
  {
   "cell_type": "code",
   "execution_count": 8,
   "id": "687703bb",
   "metadata": {
    "execution": {
     "iopub.execute_input": "2023-09-01T11:50:32.695149Z",
     "iopub.status.busy": "2023-09-01T11:50:32.694731Z",
     "iopub.status.idle": "2023-09-01T11:50:32.701378Z",
     "shell.execute_reply": "2023-09-01T11:50:32.700258Z"
    },
    "papermill": {
     "duration": 0.018597,
     "end_time": "2023-09-01T11:50:32.704715",
     "exception": false,
     "start_time": "2023-09-01T11:50:32.686118",
     "status": "completed"
    },
    "tags": []
   },
   "outputs": [
    {
     "name": "stdout",
     "output_type": "stream",
     "text": [
      "matrix 2*3 : \n",
      " [[2 3 4]\n",
      " [5 6 7]]\n",
      "matrix 3*2 : \n",
      " [[2 3]\n",
      " [4 5]\n",
      " [6 7]]\n"
     ]
    }
   ],
   "source": [
    "matrix = np.array([[2,3,4],[5,6,7]])\n",
    "print(\"matrix 2*3 : \\n\", matrix)\n",
    "matrix = np.array([[2,3],[4,5],[6,7]])\n",
    "print(\"matrix 3*2 : \\n\", matrix)"
   ]
  }
 ],
 "kernelspec": {
  "display_name": "Python 3",
  "language": "python",
  "name": "python3"
 },
 "language_info": {
  "codemirror_mode": {
   "name": "ipython",
   "version": 3
  },
  "file_extension": ".py",
  "mimetype": "text/x-python",
  "name": "python",
  "nbconvert_exporter": "python",
  "pygments_lexer": "ipython3",
  "version": "3.6.4"
 },
 "metadata": {
  "kernelspec": {
   "display_name": "Python 3",
   "language": "python",
   "name": "python3"
  },
  "language_info": {
   "codemirror_mode": {
    "name": "ipython",
    "version": 3
   },
   "file_extension": ".py",
   "mimetype": "text/x-python",
   "name": "python",
   "nbconvert_exporter": "python",
   "pygments_lexer": "ipython3",
   "version": "3.10.12"
  },
  "papermill": {
   "default_parameters": {},
   "duration": 4.340356,
   "end_time": "2023-09-01T11:50:33.132952",
   "environment_variables": {},
   "exception": null,
   "input_path": "__notebook__.ipynb",
   "output_path": "__notebook__.ipynb",
   "parameters": {},
   "start_time": "2023-09-01T11:50:28.792596",
   "version": "2.4.0"
  }
 },
 "nbformat": 4,
 "nbformat_minor": 5
}
