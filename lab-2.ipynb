{
 "cells": [
  {
   "cell_type": "markdown",
   "id": "7b899117",
   "metadata": {
    "papermill": {
     "duration": 0.00772,
     "end_time": "2023-09-01T11:45:16.675103",
     "exception": false,
     "start_time": "2023-09-01T11:45:16.667383",
     "status": "completed"
    },
    "tags": []
   },
   "source": [
    "**<h2>--> lab-2 connecting github repo with kaggle and executing some numpy programs</h2>**"
   ]
  },
  {
   "cell_type": "code",
   "execution_count": 1,
   "id": "28c102db",
   "metadata": {
    "_cell_guid": "b1076dfc-b9ad-4769-8c92-a6c4dae69d19",
    "_uuid": "8f2839f25d086af736a60e9eeb907d3b93b6e0e5",
    "execution": {
     "iopub.execute_input": "2023-09-01T11:45:16.691354Z",
     "iopub.status.busy": "2023-09-01T11:45:16.690844Z",
     "iopub.status.idle": "2023-09-01T11:45:16.704227Z",
     "shell.execute_reply": "2023-09-01T11:45:16.702951Z"
    },
    "papermill": {
     "duration": 0.024915,
     "end_time": "2023-09-01T11:45:16.707238",
     "exception": false,
     "start_time": "2023-09-01T11:45:16.682323",
     "status": "completed"
    },
    "tags": []
   },
   "outputs": [],
   "source": [
    "import numpy as np"
   ]
  },
  {
   "cell_type": "code",
   "execution_count": 2,
   "id": "a7fe513c",
   "metadata": {
    "execution": {
     "iopub.execute_input": "2023-09-01T11:45:16.723850Z",
     "iopub.status.busy": "2023-09-01T11:45:16.722719Z",
     "iopub.status.idle": "2023-09-01T11:45:16.731245Z",
     "shell.execute_reply": "2023-09-01T11:45:16.730031Z"
    },
    "papermill": {
     "duration": 0.021462,
     "end_time": "2023-09-01T11:45:16.735775",
     "exception": false,
     "start_time": "2023-09-01T11:45:16.714313",
     "status": "completed"
    },
    "tags": []
   },
   "outputs": [
    {
     "name": "stdout",
     "output_type": "stream",
     "text": [
      "a:\n",
      " [1 2 3]\n"
     ]
    }
   ],
   "source": [
    "a = np.array([1, 2, 3])\n",
    "print(\"a:\\n\", a)"
   ]
  },
  {
   "cell_type": "code",
   "execution_count": 3,
   "id": "6ba649b6",
   "metadata": {
    "execution": {
     "iopub.execute_input": "2023-09-01T11:45:16.752011Z",
     "iopub.status.busy": "2023-09-01T11:45:16.751472Z",
     "iopub.status.idle": "2023-09-01T11:45:16.759595Z",
     "shell.execute_reply": "2023-09-01T11:45:16.758246Z"
    },
    "papermill": {
     "duration": 0.019296,
     "end_time": "2023-09-01T11:45:16.762048",
     "exception": false,
     "start_time": "2023-09-01T11:45:16.742752",
     "status": "completed"
    },
    "tags": []
   },
   "outputs": [
    {
     "name": "stdout",
     "output_type": "stream",
     "text": [
      "b:\n",
      " [[1 2 3]\n",
      " [4 5 6]\n",
      " [7 8 9]]\n"
     ]
    }
   ],
   "source": [
    "b = np.array([[1, 2, 3], [4, 5, 6], [7, 8, 9]])\n",
    "print(\"b:\\n\", b)"
   ]
  },
  {
   "cell_type": "code",
   "execution_count": 4,
   "id": "7927ef26",
   "metadata": {
    "execution": {
     "iopub.execute_input": "2023-09-01T11:45:16.779160Z",
     "iopub.status.busy": "2023-09-01T11:45:16.778219Z",
     "iopub.status.idle": "2023-09-01T11:45:16.787139Z",
     "shell.execute_reply": "2023-09-01T11:45:16.785605Z"
    },
    "papermill": {
     "duration": 0.020388,
     "end_time": "2023-09-01T11:45:16.789616",
     "exception": false,
     "start_time": "2023-09-01T11:45:16.769228",
     "status": "completed"
    },
    "tags": []
   },
   "outputs": [
    {
     "name": "stdout",
     "output_type": "stream",
     "text": [
      "a1: \n",
      " [1 2 3]\n",
      "\n",
      "Number of axes/dimensions in the array:  1\n",
      "Shape of the array:  (3,)\n",
      "Size of the array/Number of Elements in the:  3\n",
      "Type of the elements in the array:  int64\n",
      "Size of the elements in the array:  8\n",
      "Buffer containing the array:  <memory at 0x7b4030327400>\n"
     ]
    }
   ],
   "source": [
    "a1 = np.array([1, 2, 3])\n",
    "print(\"a1: \\n\", a1)\n",
    "\n",
    "print(\"\\nNumber of axes/dimensions in the array: \", a1.ndim)\n",
    "print(\"Shape of the array: \", a1.shape)\n",
    "print(\"Size of the array/Number of Elements in the: \", a1.size)\n",
    "print(\"Type of the elements in the array: \", a1.dtype)\n",
    "print(\"Size of the elements in the array: \", a1.itemsize)\n",
    "print(\"Buffer containing the array: \", a1.data)"
   ]
  },
  {
   "cell_type": "markdown",
   "id": "f8118638",
   "metadata": {
    "papermill": {
     "duration": 0.006656,
     "end_time": "2023-09-01T11:45:16.803645",
     "exception": false,
     "start_time": "2023-09-01T11:45:16.796989",
     "status": "completed"
    },
    "tags": []
   },
   "source": [
    "**<h3>1) creating one dimensions array from list</h3>**"
   ]
  },
  {
   "cell_type": "code",
   "execution_count": 5,
   "id": "3ad50e0f",
   "metadata": {
    "execution": {
     "iopub.execute_input": "2023-09-01T11:45:16.821025Z",
     "iopub.status.busy": "2023-09-01T11:45:16.819786Z",
     "iopub.status.idle": "2023-09-01T11:45:16.827112Z",
     "shell.execute_reply": "2023-09-01T11:45:16.825965Z"
    },
    "papermill": {
     "duration": 0.018988,
     "end_time": "2023-09-01T11:45:16.829522",
     "exception": false,
     "start_time": "2023-09-01T11:45:16.810534",
     "status": "completed"
    },
    "tags": []
   },
   "outputs": [
    {
     "name": "stdout",
     "output_type": "stream",
     "text": [
      "[1 2 3 4 5]\n"
     ]
    }
   ],
   "source": [
    "array = np.array([1,2,3,4,5])\n",
    "print(array)"
   ]
  },
  {
   "cell_type": "markdown",
   "id": "f4ef894a",
   "metadata": {
    "papermill": {
     "duration": 0.00716,
     "end_time": "2023-09-01T11:45:16.844220",
     "exception": false,
     "start_time": "2023-09-01T11:45:16.837060",
     "status": "completed"
    },
    "tags": []
   },
   "source": [
    "**<h3>2) creating 3x3 matrix that contain values from 2 to 10</h3>**"
   ]
  },
  {
   "cell_type": "code",
   "execution_count": 6,
   "id": "23b222a2",
   "metadata": {
    "execution": {
     "iopub.execute_input": "2023-09-01T11:45:16.863087Z",
     "iopub.status.busy": "2023-09-01T11:45:16.861875Z",
     "iopub.status.idle": "2023-09-01T11:45:16.869871Z",
     "shell.execute_reply": "2023-09-01T11:45:16.868302Z"
    },
    "papermill": {
     "duration": 0.020247,
     "end_time": "2023-09-01T11:45:16.872539",
     "exception": false,
     "start_time": "2023-09-01T11:45:16.852292",
     "status": "completed"
    },
    "tags": []
   },
   "outputs": [
    {
     "name": "stdout",
     "output_type": "stream",
     "text": [
      "[[ 2  3  4]\n",
      " [ 5  6  7]\n",
      " [ 8  9 10]]\n"
     ]
    }
   ],
   "source": [
    "matrix = np.array([[2,3,4],[5,6,7],[8,9,10]])\n",
    "print(matrix)"
   ]
  },
  {
   "cell_type": "markdown",
   "id": "fb6f4f64",
   "metadata": {
    "papermill": {
     "duration": 0.007084,
     "end_time": "2023-09-01T11:45:16.887298",
     "exception": false,
     "start_time": "2023-09-01T11:45:16.880214",
     "status": "completed"
    },
    "tags": []
   },
   "source": [
    "**<h3>3) to append values at the end of an array</h3>**"
   ]
  },
  {
   "cell_type": "code",
   "execution_count": 7,
   "id": "8c64267e",
   "metadata": {
    "execution": {
     "iopub.execute_input": "2023-09-01T11:45:16.905321Z",
     "iopub.status.busy": "2023-09-01T11:45:16.904120Z",
     "iopub.status.idle": "2023-09-01T11:45:16.912163Z",
     "shell.execute_reply": "2023-09-01T11:45:16.910741Z"
    },
    "papermill": {
     "duration": 0.019967,
     "end_time": "2023-09-01T11:45:16.914846",
     "exception": false,
     "start_time": "2023-09-01T11:45:16.894879",
     "status": "completed"
    },
    "tags": []
   },
   "outputs": [
    {
     "name": "stdout",
     "output_type": "stream",
     "text": [
      "[1 2 3 4 5]\n",
      "[1 2 3 4 5 6 7 8]\n"
     ]
    }
   ],
   "source": [
    "array = np.array([1,2,3,4,5])\n",
    "print(array)\n",
    "array = np.append(array,[6,7,8])\n",
    "print(array)"
   ]
  },
  {
   "cell_type": "markdown",
   "id": "c569abee",
   "metadata": {
    "papermill": {
     "duration": 0.007444,
     "end_time": "2023-09-01T11:45:16.930083",
     "exception": false,
     "start_time": "2023-09-01T11:45:16.922639",
     "status": "completed"
    },
    "tags": []
   },
   "source": [
    "**<h3>4) to create another shape from an array without changing its data (3x2 to 2x3)</h3>**"
   ]
  },
  {
   "cell_type": "code",
   "execution_count": 8,
   "id": "c3fc6433",
   "metadata": {
    "execution": {
     "iopub.execute_input": "2023-09-01T11:45:16.948098Z",
     "iopub.status.busy": "2023-09-01T11:45:16.947270Z",
     "iopub.status.idle": "2023-09-01T11:45:16.955590Z",
     "shell.execute_reply": "2023-09-01T11:45:16.954383Z"
    },
    "papermill": {
     "duration": 0.021074,
     "end_time": "2023-09-01T11:45:16.958781",
     "exception": false,
     "start_time": "2023-09-01T11:45:16.937707",
     "status": "completed"
    },
    "tags": []
   },
   "outputs": [
    {
     "name": "stdout",
     "output_type": "stream",
     "text": [
      "matrix 3*2 : \n",
      " [[2 3 4]\n",
      " [5 6 7]]\n",
      "matrix 2*3 :  [[2 3]\n",
      " [4 5]\n",
      " [6 7]]\n"
     ]
    }
   ],
   "source": [
    "matrix = np.array([[2,3,4],[5,6,7]])\n",
    "print(\"matrix 3*2 : \\n\", matrix)\n",
    "matrix = np.array([[2,3],[4,5],[6,7]])\n",
    "print(\"matrix 2*3 : \", matrix)"
   ]
  }
 ],
 "kernelspec": {
  "display_name": "Python 3",
  "language": "python",
  "name": "python3"
 },
 "language_info": {
  "codemirror_mode": {
   "name": "ipython",
   "version": 3
  },
  "file_extension": ".py",
  "mimetype": "text/x-python",
  "name": "python",
  "nbconvert_exporter": "python",
  "pygments_lexer": "ipython3",
  "version": "3.6.4"
 },
 "metadata": {
  "kernelspec": {
   "display_name": "Python 3",
   "language": "python",
   "name": "python3"
  },
  "language_info": {
   "codemirror_mode": {
    "name": "ipython",
    "version": 3
   },
   "file_extension": ".py",
   "mimetype": "text/x-python",
   "name": "python",
   "nbconvert_exporter": "python",
   "pygments_lexer": "ipython3",
   "version": "3.10.12"
  },
  "papermill": {
   "default_parameters": {},
   "duration": 4.950559,
   "end_time": "2023-09-01T11:45:17.490981",
   "environment_variables": {},
   "exception": null,
   "input_path": "__notebook__.ipynb",
   "output_path": "__notebook__.ipynb",
   "parameters": {},
   "start_time": "2023-09-01T11:45:12.540422",
   "version": "2.4.0"
  }
 },
 "nbformat": 4,
 "nbformat_minor": 5
}
