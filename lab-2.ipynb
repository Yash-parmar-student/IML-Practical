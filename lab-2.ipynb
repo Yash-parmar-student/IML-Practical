{
 "cells": [
  {
   "cell_type": "markdown",
   "id": "c4aaf125",
   "metadata": {
    "papermill": {
     "duration": 0.006172,
     "end_time": "2023-09-01T11:36:35.890430",
     "exception": false,
     "start_time": "2023-09-01T11:36:35.884258",
     "status": "completed"
    },
    "tags": []
   },
   "source": [
    "***--> lab-2 connecting github repo with kaggle and executing some numpy programs***"
   ]
  },
  {
   "cell_type": "code",
   "execution_count": 1,
   "id": "35408cea",
   "metadata": {
    "_cell_guid": "b1076dfc-b9ad-4769-8c92-a6c4dae69d19",
    "_uuid": "8f2839f25d086af736a60e9eeb907d3b93b6e0e5",
    "execution": {
     "iopub.execute_input": "2023-09-01T11:36:35.903500Z",
     "iopub.status.busy": "2023-09-01T11:36:35.902660Z",
     "iopub.status.idle": "2023-09-01T11:36:35.912819Z",
     "shell.execute_reply": "2023-09-01T11:36:35.911956Z"
    },
    "papermill": {
     "duration": 0.019438,
     "end_time": "2023-09-01T11:36:35.915255",
     "exception": false,
     "start_time": "2023-09-01T11:36:35.895817",
     "status": "completed"
    },
    "tags": []
   },
   "outputs": [],
   "source": [
    "import numpy as np"
   ]
  },
  {
   "cell_type": "code",
   "execution_count": 2,
   "id": "869c134f",
   "metadata": {
    "execution": {
     "iopub.execute_input": "2023-09-01T11:36:35.928013Z",
     "iopub.status.busy": "2023-09-01T11:36:35.927140Z",
     "iopub.status.idle": "2023-09-01T11:36:35.935958Z",
     "shell.execute_reply": "2023-09-01T11:36:35.934486Z"
    },
    "papermill": {
     "duration": 0.019042,
     "end_time": "2023-09-01T11:36:35.939344",
     "exception": false,
     "start_time": "2023-09-01T11:36:35.920302",
     "status": "completed"
    },
    "tags": []
   },
   "outputs": [
    {
     "name": "stdout",
     "output_type": "stream",
     "text": [
      "a:\n",
      " [1 2 3]\n"
     ]
    }
   ],
   "source": [
    "a = np.array([1, 2, 3])\n",
    "print(\"a:\\n\", a)"
   ]
  },
  {
   "cell_type": "code",
   "execution_count": 3,
   "id": "624a4a4d",
   "metadata": {
    "execution": {
     "iopub.execute_input": "2023-09-01T11:36:35.952917Z",
     "iopub.status.busy": "2023-09-01T11:36:35.952531Z",
     "iopub.status.idle": "2023-09-01T11:36:35.958324Z",
     "shell.execute_reply": "2023-09-01T11:36:35.957233Z"
    },
    "papermill": {
     "duration": 0.015352,
     "end_time": "2023-09-01T11:36:35.961332",
     "exception": false,
     "start_time": "2023-09-01T11:36:35.945980",
     "status": "completed"
    },
    "tags": []
   },
   "outputs": [
    {
     "name": "stdout",
     "output_type": "stream",
     "text": [
      "b:\n",
      " [[1 2 3]\n",
      " [4 5 6]\n",
      " [7 8 9]]\n"
     ]
    }
   ],
   "source": [
    "b = np.array([[1, 2, 3], [4, 5, 6], [7, 8, 9]])\n",
    "print(\"b:\\n\", b)"
   ]
  },
  {
   "cell_type": "code",
   "execution_count": 4,
   "id": "f5e31461",
   "metadata": {
    "execution": {
     "iopub.execute_input": "2023-09-01T11:36:35.973212Z",
     "iopub.status.busy": "2023-09-01T11:36:35.972847Z",
     "iopub.status.idle": "2023-09-01T11:36:35.980220Z",
     "shell.execute_reply": "2023-09-01T11:36:35.978976Z"
    },
    "papermill": {
     "duration": 0.016203,
     "end_time": "2023-09-01T11:36:35.982648",
     "exception": false,
     "start_time": "2023-09-01T11:36:35.966445",
     "status": "completed"
    },
    "tags": []
   },
   "outputs": [
    {
     "name": "stdout",
     "output_type": "stream",
     "text": [
      "a1: \n",
      " [1 2 3]\n",
      "\n",
      "Number of axes/dimensions in the array:  1\n",
      "Shape of the array:  (3,)\n",
      "Size of the array/Number of Elements in the:  3\n",
      "Type of the elements in the array:  int64\n",
      "Size of the elements in the array:  8\n",
      "Buffer containing the array:  <memory at 0x7ec167e17400>\n"
     ]
    }
   ],
   "source": [
    "a1 = np.array([1, 2, 3])\n",
    "print(\"a1: \\n\", a1)\n",
    "\n",
    "print(\"\\nNumber of axes/dimensions in the array: \", a1.ndim)\n",
    "print(\"Shape of the array: \", a1.shape)\n",
    "print(\"Size of the array/Number of Elements in the: \", a1.size)\n",
    "print(\"Type of the elements in the array: \", a1.dtype)\n",
    "print(\"Size of the elements in the array: \", a1.itemsize)\n",
    "print(\"Buffer containing the array: \", a1.data)"
   ]
  },
  {
   "cell_type": "markdown",
   "id": "daf95442",
   "metadata": {
    "papermill": {
     "duration": 0.00481,
     "end_time": "2023-09-01T11:36:35.992853",
     "exception": false,
     "start_time": "2023-09-01T11:36:35.988043",
     "status": "completed"
    },
    "tags": []
   },
   "source": [
    "**<h3>1) creating one dimensions array from list</h3>**"
   ]
  },
  {
   "cell_type": "code",
   "execution_count": 5,
   "id": "2066a731",
   "metadata": {
    "execution": {
     "iopub.execute_input": "2023-09-01T11:36:36.004770Z",
     "iopub.status.busy": "2023-09-01T11:36:36.004358Z",
     "iopub.status.idle": "2023-09-01T11:36:36.011391Z",
     "shell.execute_reply": "2023-09-01T11:36:36.009983Z"
    },
    "papermill": {
     "duration": 0.016213,
     "end_time": "2023-09-01T11:36:36.014126",
     "exception": false,
     "start_time": "2023-09-01T11:36:35.997913",
     "status": "completed"
    },
    "tags": []
   },
   "outputs": [
    {
     "name": "stdout",
     "output_type": "stream",
     "text": [
      "[1 2 3 4 5]\n"
     ]
    }
   ],
   "source": [
    "array = np.array([1,2,3,4,5])\n",
    "print(array)"
   ]
  },
  {
   "cell_type": "markdown",
   "id": "6950b86b",
   "metadata": {
    "papermill": {
     "duration": 0.005215,
     "end_time": "2023-09-01T11:36:36.024807",
     "exception": false,
     "start_time": "2023-09-01T11:36:36.019592",
     "status": "completed"
    },
    "tags": []
   },
   "source": [
    "**<h3>2) creating 3x3 matrix that contain values from 2 to 10</h3>**"
   ]
  },
  {
   "cell_type": "code",
   "execution_count": 6,
   "id": "72b0820e",
   "metadata": {
    "execution": {
     "iopub.execute_input": "2023-09-01T11:36:36.037402Z",
     "iopub.status.busy": "2023-09-01T11:36:36.036464Z",
     "iopub.status.idle": "2023-09-01T11:36:36.042750Z",
     "shell.execute_reply": "2023-09-01T11:36:36.041514Z"
    },
    "papermill": {
     "duration": 0.015173,
     "end_time": "2023-09-01T11:36:36.045069",
     "exception": false,
     "start_time": "2023-09-01T11:36:36.029896",
     "status": "completed"
    },
    "tags": []
   },
   "outputs": [
    {
     "name": "stdout",
     "output_type": "stream",
     "text": [
      "[[ 2  3  4]\n",
      " [ 5  6  7]\n",
      " [ 8  9 10]]\n"
     ]
    }
   ],
   "source": [
    "matrix = np.array([[2,3,4],[5,6,7],[8,9,10]])\n",
    "print(matrix)"
   ]
  },
  {
   "cell_type": "markdown",
   "id": "f5f3e4c4",
   "metadata": {
    "papermill": {
     "duration": 0.005361,
     "end_time": "2023-09-01T11:36:36.056162",
     "exception": false,
     "start_time": "2023-09-01T11:36:36.050801",
     "status": "completed"
    },
    "tags": []
   },
   "source": [
    "**<h3>3) to append values at the end of an array</h3>**"
   ]
  },
  {
   "cell_type": "code",
   "execution_count": 7,
   "id": "12200da3",
   "metadata": {
    "execution": {
     "iopub.execute_input": "2023-09-01T11:36:36.068658Z",
     "iopub.status.busy": "2023-09-01T11:36:36.068246Z",
     "iopub.status.idle": "2023-09-01T11:36:36.074961Z",
     "shell.execute_reply": "2023-09-01T11:36:36.073547Z"
    },
    "papermill": {
     "duration": 0.016114,
     "end_time": "2023-09-01T11:36:36.077579",
     "exception": false,
     "start_time": "2023-09-01T11:36:36.061465",
     "status": "completed"
    },
    "tags": []
   },
   "outputs": [
    {
     "name": "stdout",
     "output_type": "stream",
     "text": [
      "[1 2 3 4 5]\n",
      "[1 2 3 4 5 6 7 8]\n"
     ]
    }
   ],
   "source": [
    "array = np.array([1,2,3,4,5])\n",
    "print(array)\n",
    "array = np.append(array,[6,7,8])\n",
    "print(array)"
   ]
  },
  {
   "cell_type": "markdown",
   "id": "c7597484",
   "metadata": {
    "papermill": {
     "duration": 0.005118,
     "end_time": "2023-09-01T11:36:36.088220",
     "exception": false,
     "start_time": "2023-09-01T11:36:36.083102",
     "status": "completed"
    },
    "tags": []
   },
   "source": [
    "**<h3>4) to create another shape from an array without changing its data (3\\*2 to 2\\*3)</h3>**"
   ]
  },
  {
   "cell_type": "code",
   "execution_count": 8,
   "id": "084e93ed",
   "metadata": {
    "execution": {
     "iopub.execute_input": "2023-09-01T11:36:36.100564Z",
     "iopub.status.busy": "2023-09-01T11:36:36.100202Z",
     "iopub.status.idle": "2023-09-01T11:36:36.107024Z",
     "shell.execute_reply": "2023-09-01T11:36:36.105949Z"
    },
    "papermill": {
     "duration": 0.015642,
     "end_time": "2023-09-01T11:36:36.109195",
     "exception": false,
     "start_time": "2023-09-01T11:36:36.093553",
     "status": "completed"
    },
    "tags": []
   },
   "outputs": [
    {
     "name": "stdout",
     "output_type": "stream",
     "text": [
      "matrix 3*2 : \n",
      " [[2 3 4]\n",
      " [5 6 7]]\n",
      "matrix 2*3 : \n",
      " [[2 3]\n",
      " [4 5]\n",
      " [6 7]]\n"
     ]
    }
   ],
   "source": [
    "matrix = np.array([[2,3,4],[5,6,7]])\n",
    "print(\"matrix 3*2 : \\n\", matrix)\n",
    "matrix = np.array([[2,3],[4,5],[6,7]])\n",
    "print(\"matrix 2*3 : \\n\", matrix)"
   ]
  }
 ],
 "kernelspec": {
  "display_name": "Python 3",
  "language": "python",
  "name": "python3"
 },
 "language_info": {
  "codemirror_mode": {
   "name": "ipython",
   "version": 3
  },
  "file_extension": ".py",
  "mimetype": "text/x-python",
  "name": "python",
  "nbconvert_exporter": "python",
  "pygments_lexer": "ipython3",
  "version": "3.6.4"
 },
 "metadata": {
  "kernelspec": {
   "display_name": "Python 3",
   "language": "python",
   "name": "python3"
  },
  "language_info": {
   "codemirror_mode": {
    "name": "ipython",
    "version": 3
   },
   "file_extension": ".py",
   "mimetype": "text/x-python",
   "name": "python",
   "nbconvert_exporter": "python",
   "pygments_lexer": "ipython3",
   "version": "3.10.12"
  },
  "papermill": {
   "default_parameters": {},
   "duration": 3.965748,
   "end_time": "2023-09-01T11:36:36.534983",
   "environment_variables": {},
   "exception": null,
   "input_path": "__notebook__.ipynb",
   "output_path": "__notebook__.ipynb",
   "parameters": {},
   "start_time": "2023-09-01T11:36:32.569235",
   "version": "2.4.0"
  }
 },
 "nbformat": 4,
 "nbformat_minor": 5
}
