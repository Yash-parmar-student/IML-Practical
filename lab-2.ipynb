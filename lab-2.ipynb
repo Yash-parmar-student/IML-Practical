{
 "cells": [
  {
   "cell_type": "markdown",
   "id": "9cfb3eaa",
   "metadata": {
    "papermill": {
     "duration": 0.004837,
     "end_time": "2023-09-01T11:40:22.516791",
     "exception": false,
     "start_time": "2023-09-01T11:40:22.511954",
     "status": "completed"
    },
    "tags": []
   },
   "source": [
    "**<h2>--> lab-2 connecting github repo with kaggle and executing some numpy programs</h2>**"
   ]
  },
  {
   "cell_type": "code",
   "execution_count": 1,
   "id": "8ae5de1b",
   "metadata": {
    "_cell_guid": "b1076dfc-b9ad-4769-8c92-a6c4dae69d19",
    "_uuid": "8f2839f25d086af736a60e9eeb907d3b93b6e0e5",
    "execution": {
     "iopub.execute_input": "2023-09-01T11:40:22.527068Z",
     "iopub.status.busy": "2023-09-01T11:40:22.526537Z",
     "iopub.status.idle": "2023-09-01T11:40:22.534760Z",
     "shell.execute_reply": "2023-09-01T11:40:22.534067Z"
    },
    "papermill": {
     "duration": 0.01578,
     "end_time": "2023-09-01T11:40:22.536851",
     "exception": false,
     "start_time": "2023-09-01T11:40:22.521071",
     "status": "completed"
    },
    "tags": []
   },
   "outputs": [],
   "source": [
    "import numpy as np"
   ]
  },
  {
   "cell_type": "code",
   "execution_count": 2,
   "id": "547b8826",
   "metadata": {
    "execution": {
     "iopub.execute_input": "2023-09-01T11:40:22.547370Z",
     "iopub.status.busy": "2023-09-01T11:40:22.546864Z",
     "iopub.status.idle": "2023-09-01T11:40:22.553111Z",
     "shell.execute_reply": "2023-09-01T11:40:22.552234Z"
    },
    "papermill": {
     "duration": 0.01371,
     "end_time": "2023-09-01T11:40:22.555003",
     "exception": false,
     "start_time": "2023-09-01T11:40:22.541293",
     "status": "completed"
    },
    "tags": []
   },
   "outputs": [
    {
     "name": "stdout",
     "output_type": "stream",
     "text": [
      "a:\n",
      " [1 2 3]\n"
     ]
    }
   ],
   "source": [
    "a = np.array([1, 2, 3])\n",
    "print(\"a:\\n\", a)"
   ]
  },
  {
   "cell_type": "code",
   "execution_count": 3,
   "id": "0e2f5a71",
   "metadata": {
    "execution": {
     "iopub.execute_input": "2023-09-01T11:40:22.564712Z",
     "iopub.status.busy": "2023-09-01T11:40:22.564403Z",
     "iopub.status.idle": "2023-09-01T11:40:22.570208Z",
     "shell.execute_reply": "2023-09-01T11:40:22.569131Z"
    },
    "papermill": {
     "duration": 0.012778,
     "end_time": "2023-09-01T11:40:22.572095",
     "exception": false,
     "start_time": "2023-09-01T11:40:22.559317",
     "status": "completed"
    },
    "tags": []
   },
   "outputs": [
    {
     "name": "stdout",
     "output_type": "stream",
     "text": [
      "b:\n",
      " [[1 2 3]\n",
      " [4 5 6]\n",
      " [7 8 9]]\n"
     ]
    }
   ],
   "source": [
    "b = np.array([[1, 2, 3], [4, 5, 6], [7, 8, 9]])\n",
    "print(\"b:\\n\", b)"
   ]
  },
  {
   "cell_type": "code",
   "execution_count": 4,
   "id": "c856b24d",
   "metadata": {
    "execution": {
     "iopub.execute_input": "2023-09-01T11:40:22.582183Z",
     "iopub.status.busy": "2023-09-01T11:40:22.581586Z",
     "iopub.status.idle": "2023-09-01T11:40:22.588643Z",
     "shell.execute_reply": "2023-09-01T11:40:22.587283Z"
    },
    "papermill": {
     "duration": 0.014042,
     "end_time": "2023-09-01T11:40:22.590424",
     "exception": false,
     "start_time": "2023-09-01T11:40:22.576382",
     "status": "completed"
    },
    "tags": []
   },
   "outputs": [
    {
     "name": "stdout",
     "output_type": "stream",
     "text": [
      "a1: \n",
      " [1 2 3]\n",
      "\n",
      "Number of axes/dimensions in the array:  1\n",
      "Shape of the array:  (3,)\n",
      "Size of the array/Number of Elements in the:  3\n",
      "Type of the elements in the array:  int64\n",
      "Size of the elements in the array:  8\n",
      "Buffer containing the array:  <memory at 0x7f4ff016b400>\n"
     ]
    }
   ],
   "source": [
    "a1 = np.array([1, 2, 3])\n",
    "print(\"a1: \\n\", a1)\n",
    "\n",
    "print(\"\\nNumber of axes/dimensions in the array: \", a1.ndim)\n",
    "print(\"Shape of the array: \", a1.shape)\n",
    "print(\"Size of the array/Number of Elements in the: \", a1.size)\n",
    "print(\"Type of the elements in the array: \", a1.dtype)\n",
    "print(\"Size of the elements in the array: \", a1.itemsize)\n",
    "print(\"Buffer containing the array: \", a1.data)"
   ]
  },
  {
   "cell_type": "markdown",
   "id": "d5c9ccd5",
   "metadata": {
    "papermill": {
     "duration": 0.003833,
     "end_time": "2023-09-01T11:40:22.598555",
     "exception": false,
     "start_time": "2023-09-01T11:40:22.594722",
     "status": "completed"
    },
    "tags": []
   },
   "source": [
    "**<h3>1) creating one dimensions array from list</h3>**"
   ]
  },
  {
   "cell_type": "code",
   "execution_count": 5,
   "id": "360cdc34",
   "metadata": {
    "execution": {
     "iopub.execute_input": "2023-09-01T11:40:22.609839Z",
     "iopub.status.busy": "2023-09-01T11:40:22.608553Z",
     "iopub.status.idle": "2023-09-01T11:40:22.614035Z",
     "shell.execute_reply": "2023-09-01T11:40:22.613076Z"
    },
    "papermill": {
     "duration": 0.0126,
     "end_time": "2023-09-01T11:40:22.615603",
     "exception": false,
     "start_time": "2023-09-01T11:40:22.603003",
     "status": "completed"
    },
    "tags": []
   },
   "outputs": [
    {
     "name": "stdout",
     "output_type": "stream",
     "text": [
      "[1 2 3 4 5]\n"
     ]
    }
   ],
   "source": [
    "array = np.array([1,2,3,4,5])\n",
    "print(array)"
   ]
  },
  {
   "cell_type": "markdown",
   "id": "d0f30711",
   "metadata": {
    "papermill": {
     "duration": 0.003885,
     "end_time": "2023-09-01T11:40:22.623843",
     "exception": false,
     "start_time": "2023-09-01T11:40:22.619958",
     "status": "completed"
    },
    "tags": []
   },
   "source": [
    "**<h3>2) creating 3x3 matrix that contain values from 2 to 10</h3>**"
   ]
  },
  {
   "cell_type": "code",
   "execution_count": 6,
   "id": "b60c4202",
   "metadata": {
    "execution": {
     "iopub.execute_input": "2023-09-01T11:40:22.633441Z",
     "iopub.status.busy": "2023-09-01T11:40:22.633109Z",
     "iopub.status.idle": "2023-09-01T11:40:22.638630Z",
     "shell.execute_reply": "2023-09-01T11:40:22.637458Z"
    },
    "papermill": {
     "duration": 0.012427,
     "end_time": "2023-09-01T11:40:22.640338",
     "exception": false,
     "start_time": "2023-09-01T11:40:22.627911",
     "status": "completed"
    },
    "tags": []
   },
   "outputs": [
    {
     "name": "stdout",
     "output_type": "stream",
     "text": [
      "[[ 2  3  4]\n",
      " [ 5  6  7]\n",
      " [ 8  9 10]]\n"
     ]
    }
   ],
   "source": [
    "matrix = np.array([[2,3,4],[5,6,7],[8,9,10]])\n",
    "print(matrix)"
   ]
  },
  {
   "cell_type": "markdown",
   "id": "4e9b0901",
   "metadata": {
    "papermill": {
     "duration": 0.003935,
     "end_time": "2023-09-01T11:40:22.648501",
     "exception": false,
     "start_time": "2023-09-01T11:40:22.644566",
     "status": "completed"
    },
    "tags": []
   },
   "source": [
    "**<h3>3) to append values at the end of an array</h3>**"
   ]
  },
  {
   "cell_type": "code",
   "execution_count": 7,
   "id": "a7b0eb69",
   "metadata": {
    "execution": {
     "iopub.execute_input": "2023-09-01T11:40:22.658176Z",
     "iopub.status.busy": "2023-09-01T11:40:22.657858Z",
     "iopub.status.idle": "2023-09-01T11:40:22.663198Z",
     "shell.execute_reply": "2023-09-01T11:40:22.662396Z"
    },
    "papermill": {
     "duration": 0.012059,
     "end_time": "2023-09-01T11:40:22.664688",
     "exception": false,
     "start_time": "2023-09-01T11:40:22.652629",
     "status": "completed"
    },
    "tags": []
   },
   "outputs": [
    {
     "name": "stdout",
     "output_type": "stream",
     "text": [
      "[1 2 3 4 5]\n",
      "[1 2 3 4 5 6 7 8]\n"
     ]
    }
   ],
   "source": [
    "array = np.array([1,2,3,4,5])\n",
    "print(array)\n",
    "array = np.append(array,[6,7,8])\n",
    "print(array)"
   ]
  },
  {
   "cell_type": "markdown",
   "id": "a86bebd2",
   "metadata": {
    "papermill": {
     "duration": 0.003962,
     "end_time": "2023-09-01T11:40:22.672920",
     "exception": false,
     "start_time": "2023-09-01T11:40:22.668958",
     "status": "completed"
    },
    "tags": []
   },
   "source": [
    "**<h3>4) to create another shape from an array without changing its data (3\\*2 to 2\\*3)</h3>**"
   ]
  },
  {
   "cell_type": "code",
   "execution_count": 8,
   "id": "4b925290",
   "metadata": {
    "execution": {
     "iopub.execute_input": "2023-09-01T11:40:22.682941Z",
     "iopub.status.busy": "2023-09-01T11:40:22.682563Z",
     "iopub.status.idle": "2023-09-01T11:40:22.688712Z",
     "shell.execute_reply": "2023-09-01T11:40:22.687606Z"
    },
    "papermill": {
     "duration": 0.013811,
     "end_time": "2023-09-01T11:40:22.690900",
     "exception": false,
     "start_time": "2023-09-01T11:40:22.677089",
     "status": "completed"
    },
    "tags": []
   },
   "outputs": [
    {
     "name": "stdout",
     "output_type": "stream",
     "text": [
      "matrix 3*2 : \n",
      " [[2 3 4]\n",
      " [5 6 7]]\n",
      "matrix 2*3 : \n",
      " [[2 3]\n",
      " [4 5]\n",
      " [6 7]]\n"
     ]
    }
   ],
   "source": [
    "matrix = np.array([[2,3,4],[5,6,7]])\n",
    "print(\"matrix 3*2 : \\n\", matrix)\n",
    "matrix = np.array([[2,3],[4,5],[6,7]])\n",
    "print(\"matrix 2*3 : \\n\", matrix)"
   ]
  }
 ],
 "kernelspec": {
  "display_name": "Python 3",
  "language": "python",
  "name": "python3"
 },
 "language_info": {
  "codemirror_mode": {
   "name": "ipython",
   "version": 3
  },
  "file_extension": ".py",
  "mimetype": "text/x-python",
  "name": "python",
  "nbconvert_exporter": "python",
  "pygments_lexer": "ipython3",
  "version": "3.6.4"
 },
 "metadata": {
  "kernelspec": {
   "display_name": "Python 3",
   "language": "python",
   "name": "python3"
  },
  "language_info": {
   "codemirror_mode": {
    "name": "ipython",
    "version": 3
   },
   "file_extension": ".py",
   "mimetype": "text/x-python",
   "name": "python",
   "nbconvert_exporter": "python",
   "pygments_lexer": "ipython3",
   "version": "3.10.12"
  },
  "papermill": {
   "default_parameters": {},
   "duration": 3.897963,
   "end_time": "2023-09-01T11:40:23.015000",
   "environment_variables": {},
   "exception": null,
   "input_path": "__notebook__.ipynb",
   "output_path": "__notebook__.ipynb",
   "parameters": {},
   "start_time": "2023-09-01T11:40:19.117037",
   "version": "2.4.0"
  }
 },
 "nbformat": 4,
 "nbformat_minor": 5
}
