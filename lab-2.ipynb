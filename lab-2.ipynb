{
 "cells": [
  {
   "cell_type": "markdown",
   "id": "f6d1afd3",
   "metadata": {
    "papermill": {
     "duration": 0.004723,
     "end_time": "2023-09-01T11:09:11.090160",
     "exception": false,
     "start_time": "2023-09-01T11:09:11.085437",
     "status": "completed"
    },
    "tags": []
   },
   "source": [
    "***--> lab-2 connecting github repo with kaggle and executing some numpy programs***"
   ]
  },
  {
   "cell_type": "code",
   "execution_count": 1,
   "id": "545c0ced",
   "metadata": {
    "_cell_guid": "b1076dfc-b9ad-4769-8c92-a6c4dae69d19",
    "_uuid": "8f2839f25d086af736a60e9eeb907d3b93b6e0e5",
    "execution": {
     "iopub.execute_input": "2023-09-01T11:09:11.100327Z",
     "iopub.status.busy": "2023-09-01T11:09:11.099919Z",
     "iopub.status.idle": "2023-09-01T11:09:11.110302Z",
     "shell.execute_reply": "2023-09-01T11:09:11.109289Z"
    },
    "papermill": {
     "duration": 0.018929,
     "end_time": "2023-09-01T11:09:11.113160",
     "exception": false,
     "start_time": "2023-09-01T11:09:11.094231",
     "status": "completed"
    },
    "tags": []
   },
   "outputs": [],
   "source": [
    "import numpy as np"
   ]
  },
  {
   "cell_type": "code",
   "execution_count": 2,
   "id": "bbb359df",
   "metadata": {
    "execution": {
     "iopub.execute_input": "2023-09-01T11:09:11.122007Z",
     "iopub.status.busy": "2023-09-01T11:09:11.121646Z",
     "iopub.status.idle": "2023-09-01T11:09:11.129710Z",
     "shell.execute_reply": "2023-09-01T11:09:11.128567Z"
    },
    "papermill": {
     "duration": 0.015795,
     "end_time": "2023-09-01T11:09:11.132512",
     "exception": false,
     "start_time": "2023-09-01T11:09:11.116717",
     "status": "completed"
    },
    "tags": []
   },
   "outputs": [
    {
     "name": "stdout",
     "output_type": "stream",
     "text": [
      "a:\n",
      " [1 2 3]\n"
     ]
    }
   ],
   "source": [
    "a = np.array([1, 2, 3])\n",
    "print(\"a:\\n\", a)"
   ]
  },
  {
   "cell_type": "code",
   "execution_count": 3,
   "id": "f3a6842b",
   "metadata": {
    "execution": {
     "iopub.execute_input": "2023-09-01T11:09:11.141874Z",
     "iopub.status.busy": "2023-09-01T11:09:11.141511Z",
     "iopub.status.idle": "2023-09-01T11:09:11.147217Z",
     "shell.execute_reply": "2023-09-01T11:09:11.146069Z"
    },
    "papermill": {
     "duration": 0.013111,
     "end_time": "2023-09-01T11:09:11.149502",
     "exception": false,
     "start_time": "2023-09-01T11:09:11.136391",
     "status": "completed"
    },
    "tags": []
   },
   "outputs": [
    {
     "name": "stdout",
     "output_type": "stream",
     "text": [
      "b:\n",
      " [[1 2 3]\n",
      " [4 5 6]\n",
      " [7 8 9]]\n"
     ]
    }
   ],
   "source": [
    "b = np.array([[1, 2, 3], [4, 5, 6], [7, 8, 9]])\n",
    "print(\"b:\\n\", b)"
   ]
  },
  {
   "cell_type": "code",
   "execution_count": 4,
   "id": "e19ecee0",
   "metadata": {
    "execution": {
     "iopub.execute_input": "2023-09-01T11:09:11.158514Z",
     "iopub.status.busy": "2023-09-01T11:09:11.158151Z",
     "iopub.status.idle": "2023-09-01T11:09:11.165327Z",
     "shell.execute_reply": "2023-09-01T11:09:11.164001Z"
    },
    "papermill": {
     "duration": 0.01478,
     "end_time": "2023-09-01T11:09:11.167952",
     "exception": false,
     "start_time": "2023-09-01T11:09:11.153172",
     "status": "completed"
    },
    "tags": []
   },
   "outputs": [
    {
     "name": "stdout",
     "output_type": "stream",
     "text": [
      "a1: \n",
      " [1 2 3]\n",
      "\n",
      "Number of axes/dimensions in the array:  1\n",
      "Shape of the array:  (3,)\n",
      "Size of the array/Number of Elements in the:  3\n",
      "Type of the elements in the array:  int64\n",
      "Size of the elements in the array:  8\n",
      "Buffer containing the array:  <memory at 0x7eb071287400>\n"
     ]
    }
   ],
   "source": [
    "a1 = np.array([1, 2, 3])\n",
    "print(\"a1: \\n\", a1)\n",
    "\n",
    "print(\"\\nNumber of axes/dimensions in the array: \", a1.ndim)\n",
    "print(\"Shape of the array: \", a1.shape)\n",
    "print(\"Size of the array/Number of Elements in the: \", a1.size)\n",
    "print(\"Type of the elements in the array: \", a1.dtype)\n",
    "print(\"Size of the elements in the array: \", a1.itemsize)\n",
    "print(\"Buffer containing the array: \", a1.data)"
   ]
  }
 ],
 "kernelspec": {
  "display_name": "Python 3",
  "language": "python",
  "name": "python3"
 },
 "language_info": {
  "codemirror_mode": {
   "name": "ipython",
   "version": 3
  },
  "file_extension": ".py",
  "mimetype": "text/x-python",
  "name": "python",
  "nbconvert_exporter": "python",
  "pygments_lexer": "ipython3",
  "version": "3.6.4"
 },
 "metadata": {
  "kernelspec": {
   "display_name": "Python 3",
   "language": "python",
   "name": "python3"
  },
  "language_info": {
   "codemirror_mode": {
    "name": "ipython",
    "version": 3
   },
   "file_extension": ".py",
   "mimetype": "text/x-python",
   "name": "python",
   "nbconvert_exporter": "python",
   "pygments_lexer": "ipython3",
   "version": "3.10.12"
  },
  "papermill": {
   "default_parameters": {},
   "duration": 3.968512,
   "end_time": "2023-09-01T11:09:11.594825",
   "environment_variables": {},
   "exception": null,
   "input_path": "__notebook__.ipynb",
   "output_path": "__notebook__.ipynb",
   "parameters": {},
   "start_time": "2023-09-01T11:09:07.626313",
   "version": "2.4.0"
  }
 },
 "nbformat": 4,
 "nbformat_minor": 5
}
