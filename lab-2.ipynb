{
 "cells": [
  {
   "cell_type": "markdown",
   "id": "db25c4d1",
   "metadata": {
    "papermill": {
     "duration": 0.00557,
     "end_time": "2023-09-01T11:38:13.042714",
     "exception": false,
     "start_time": "2023-09-01T11:38:13.037144",
     "status": "completed"
    },
    "tags": []
   },
   "source": [
    "***<h2>--> lab-2 connecting github repo with kaggle and executing some numpy programs</h2>***"
   ]
  },
  {
   "cell_type": "code",
   "execution_count": 1,
   "id": "4e8f38fc",
   "metadata": {
    "_cell_guid": "b1076dfc-b9ad-4769-8c92-a6c4dae69d19",
    "_uuid": "8f2839f25d086af736a60e9eeb907d3b93b6e0e5",
    "execution": {
     "iopub.execute_input": "2023-09-01T11:38:13.055650Z",
     "iopub.status.busy": "2023-09-01T11:38:13.054162Z",
     "iopub.status.idle": "2023-09-01T11:38:13.064665Z",
     "shell.execute_reply": "2023-09-01T11:38:13.063741Z"
    },
    "papermill": {
     "duration": 0.019265,
     "end_time": "2023-09-01T11:38:13.067093",
     "exception": false,
     "start_time": "2023-09-01T11:38:13.047828",
     "status": "completed"
    },
    "tags": []
   },
   "outputs": [],
   "source": [
    "import numpy as np"
   ]
  },
  {
   "cell_type": "code",
   "execution_count": 2,
   "id": "24633ae9",
   "metadata": {
    "execution": {
     "iopub.execute_input": "2023-09-01T11:38:13.079177Z",
     "iopub.status.busy": "2023-09-01T11:38:13.078114Z",
     "iopub.status.idle": "2023-09-01T11:38:13.086507Z",
     "shell.execute_reply": "2023-09-01T11:38:13.085558Z"
    },
    "papermill": {
     "duration": 0.016827,
     "end_time": "2023-09-01T11:38:13.088863",
     "exception": false,
     "start_time": "2023-09-01T11:38:13.072036",
     "status": "completed"
    },
    "tags": []
   },
   "outputs": [
    {
     "name": "stdout",
     "output_type": "stream",
     "text": [
      "a:\n",
      " [1 2 3]\n"
     ]
    }
   ],
   "source": [
    "a = np.array([1, 2, 3])\n",
    "print(\"a:\\n\", a)"
   ]
  },
  {
   "cell_type": "code",
   "execution_count": 3,
   "id": "f4550f88",
   "metadata": {
    "execution": {
     "iopub.execute_input": "2023-09-01T11:38:13.100657Z",
     "iopub.status.busy": "2023-09-01T11:38:13.099951Z",
     "iopub.status.idle": "2023-09-01T11:38:13.105817Z",
     "shell.execute_reply": "2023-09-01T11:38:13.104462Z"
    },
    "papermill": {
     "duration": 0.014215,
     "end_time": "2023-09-01T11:38:13.107930",
     "exception": false,
     "start_time": "2023-09-01T11:38:13.093715",
     "status": "completed"
    },
    "tags": []
   },
   "outputs": [
    {
     "name": "stdout",
     "output_type": "stream",
     "text": [
      "b:\n",
      " [[1 2 3]\n",
      " [4 5 6]\n",
      " [7 8 9]]\n"
     ]
    }
   ],
   "source": [
    "b = np.array([[1, 2, 3], [4, 5, 6], [7, 8, 9]])\n",
    "print(\"b:\\n\", b)"
   ]
  },
  {
   "cell_type": "code",
   "execution_count": 4,
   "id": "2429afd2",
   "metadata": {
    "execution": {
     "iopub.execute_input": "2023-09-01T11:38:13.121291Z",
     "iopub.status.busy": "2023-09-01T11:38:13.120533Z",
     "iopub.status.idle": "2023-09-01T11:38:13.126976Z",
     "shell.execute_reply": "2023-09-01T11:38:13.126095Z"
    },
    "papermill": {
     "duration": 0.015817,
     "end_time": "2023-09-01T11:38:13.129443",
     "exception": false,
     "start_time": "2023-09-01T11:38:13.113626",
     "status": "completed"
    },
    "tags": []
   },
   "outputs": [
    {
     "name": "stdout",
     "output_type": "stream",
     "text": [
      "a1: \n",
      " [1 2 3]\n",
      "\n",
      "Number of axes/dimensions in the array:  1\n",
      "Shape of the array:  (3,)\n",
      "Size of the array/Number of Elements in the:  3\n",
      "Type of the elements in the array:  int64\n",
      "Size of the elements in the array:  8\n",
      "Buffer containing the array:  <memory at 0x7f444f74f400>\n"
     ]
    }
   ],
   "source": [
    "a1 = np.array([1, 2, 3])\n",
    "print(\"a1: \\n\", a1)\n",
    "\n",
    "print(\"\\nNumber of axes/dimensions in the array: \", a1.ndim)\n",
    "print(\"Shape of the array: \", a1.shape)\n",
    "print(\"Size of the array/Number of Elements in the: \", a1.size)\n",
    "print(\"Type of the elements in the array: \", a1.dtype)\n",
    "print(\"Size of the elements in the array: \", a1.itemsize)\n",
    "print(\"Buffer containing the array: \", a1.data)"
   ]
  },
  {
   "cell_type": "markdown",
   "id": "ce6dea6f",
   "metadata": {
    "papermill": {
     "duration": 0.004763,
     "end_time": "2023-09-01T11:38:13.139354",
     "exception": false,
     "start_time": "2023-09-01T11:38:13.134591",
     "status": "completed"
    },
    "tags": []
   },
   "source": [
    "**<h3>1) creating one dimensions array from list</h3>**"
   ]
  },
  {
   "cell_type": "code",
   "execution_count": 5,
   "id": "67c85477",
   "metadata": {
    "execution": {
     "iopub.execute_input": "2023-09-01T11:38:13.151349Z",
     "iopub.status.busy": "2023-09-01T11:38:13.150680Z",
     "iopub.status.idle": "2023-09-01T11:38:13.156002Z",
     "shell.execute_reply": "2023-09-01T11:38:13.155002Z"
    },
    "papermill": {
     "duration": 0.013695,
     "end_time": "2023-09-01T11:38:13.157944",
     "exception": false,
     "start_time": "2023-09-01T11:38:13.144249",
     "status": "completed"
    },
    "tags": []
   },
   "outputs": [
    {
     "name": "stdout",
     "output_type": "stream",
     "text": [
      "[1 2 3 4 5]\n"
     ]
    }
   ],
   "source": [
    "array = np.array([1,2,3,4,5])\n",
    "print(array)"
   ]
  },
  {
   "cell_type": "markdown",
   "id": "bfa0a37b",
   "metadata": {
    "papermill": {
     "duration": 0.004785,
     "end_time": "2023-09-01T11:38:13.168057",
     "exception": false,
     "start_time": "2023-09-01T11:38:13.163272",
     "status": "completed"
    },
    "tags": []
   },
   "source": [
    "**<h3>2) creating 3x3 matrix that contain values from 2 to 10</h3>**"
   ]
  },
  {
   "cell_type": "code",
   "execution_count": 6,
   "id": "6cd86c08",
   "metadata": {
    "execution": {
     "iopub.execute_input": "2023-09-01T11:38:13.179986Z",
     "iopub.status.busy": "2023-09-01T11:38:13.179022Z",
     "iopub.status.idle": "2023-09-01T11:38:13.185221Z",
     "shell.execute_reply": "2023-09-01T11:38:13.183699Z"
    },
    "papermill": {
     "duration": 0.014473,
     "end_time": "2023-09-01T11:38:13.187428",
     "exception": false,
     "start_time": "2023-09-01T11:38:13.172955",
     "status": "completed"
    },
    "tags": []
   },
   "outputs": [
    {
     "name": "stdout",
     "output_type": "stream",
     "text": [
      "[[ 2  3  4]\n",
      " [ 5  6  7]\n",
      " [ 8  9 10]]\n"
     ]
    }
   ],
   "source": [
    "matrix = np.array([[2,3,4],[5,6,7],[8,9,10]])\n",
    "print(matrix)"
   ]
  },
  {
   "cell_type": "markdown",
   "id": "3fcfa367",
   "metadata": {
    "papermill": {
     "duration": 0.004825,
     "end_time": "2023-09-01T11:38:13.197617",
     "exception": false,
     "start_time": "2023-09-01T11:38:13.192792",
     "status": "completed"
    },
    "tags": []
   },
   "source": [
    "**<h3>3) to append values at the end of an array</h3>**"
   ]
  },
  {
   "cell_type": "code",
   "execution_count": 7,
   "id": "e56dbe5d",
   "metadata": {
    "execution": {
     "iopub.execute_input": "2023-09-01T11:38:13.209458Z",
     "iopub.status.busy": "2023-09-01T11:38:13.209032Z",
     "iopub.status.idle": "2023-09-01T11:38:13.215031Z",
     "shell.execute_reply": "2023-09-01T11:38:13.213917Z"
    },
    "papermill": {
     "duration": 0.014873,
     "end_time": "2023-09-01T11:38:13.217441",
     "exception": false,
     "start_time": "2023-09-01T11:38:13.202568",
     "status": "completed"
    },
    "tags": []
   },
   "outputs": [
    {
     "name": "stdout",
     "output_type": "stream",
     "text": [
      "[1 2 3 4 5]\n",
      "[1 2 3 4 5 6 7 8]\n"
     ]
    }
   ],
   "source": [
    "array = np.array([1,2,3,4,5])\n",
    "print(array)\n",
    "array = np.append(array,[6,7,8])\n",
    "print(array)"
   ]
  },
  {
   "cell_type": "markdown",
   "id": "99c70c9d",
   "metadata": {
    "papermill": {
     "duration": 0.004933,
     "end_time": "2023-09-01T11:38:13.227756",
     "exception": false,
     "start_time": "2023-09-01T11:38:13.222823",
     "status": "completed"
    },
    "tags": []
   },
   "source": [
    "**<h3>4) to create another shape from an array without changing its data (3\\*2 to 2\\*3)</h3>**"
   ]
  },
  {
   "cell_type": "code",
   "execution_count": 8,
   "id": "89106df3",
   "metadata": {
    "execution": {
     "iopub.execute_input": "2023-09-01T11:38:13.240045Z",
     "iopub.status.busy": "2023-09-01T11:38:13.239341Z",
     "iopub.status.idle": "2023-09-01T11:38:13.245700Z",
     "shell.execute_reply": "2023-09-01T11:38:13.244519Z"
    },
    "papermill": {
     "duration": 0.014828,
     "end_time": "2023-09-01T11:38:13.247687",
     "exception": false,
     "start_time": "2023-09-01T11:38:13.232859",
     "status": "completed"
    },
    "tags": []
   },
   "outputs": [
    {
     "name": "stdout",
     "output_type": "stream",
     "text": [
      "matrix 3*2 : \n",
      " [[2 3 4]\n",
      " [5 6 7]]\n",
      "matrix 2*3 : \n",
      " [[2 3]\n",
      " [4 5]\n",
      " [6 7]]\n"
     ]
    }
   ],
   "source": [
    "matrix = np.array([[2,3,4],[5,6,7]])\n",
    "print(\"matrix 3*2 : \\n\", matrix)\n",
    "matrix = np.array([[2,3],[4,5],[6,7]])\n",
    "print(\"matrix 2*3 : \\n\", matrix)"
   ]
  }
 ],
 "kernelspec": {
  "display_name": "Python 3",
  "language": "python",
  "name": "python3"
 },
 "language_info": {
  "codemirror_mode": {
   "name": "ipython",
   "version": 3
  },
  "file_extension": ".py",
  "mimetype": "text/x-python",
  "name": "python",
  "nbconvert_exporter": "python",
  "pygments_lexer": "ipython3",
  "version": "3.6.4"
 },
 "metadata": {
  "kernelspec": {
   "display_name": "Python 3",
   "language": "python",
   "name": "python3"
  },
  "language_info": {
   "codemirror_mode": {
    "name": "ipython",
    "version": 3
   },
   "file_extension": ".py",
   "mimetype": "text/x-python",
   "name": "python",
   "nbconvert_exporter": "python",
   "pygments_lexer": "ipython3",
   "version": "3.10.12"
  },
  "papermill": {
   "default_parameters": {},
   "duration": 3.858187,
   "end_time": "2023-09-01T11:38:13.571948",
   "environment_variables": {},
   "exception": null,
   "input_path": "__notebook__.ipynb",
   "output_path": "__notebook__.ipynb",
   "parameters": {},
   "start_time": "2023-09-01T11:38:09.713761",
   "version": "2.4.0"
  }
 },
 "nbformat": 4,
 "nbformat_minor": 5
}
