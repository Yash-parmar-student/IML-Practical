{
 "cells": [
  {
   "cell_type": "markdown",
   "id": "f131334b",
   "metadata": {
    "papermill": {
     "duration": 0.007578,
     "end_time": "2023-09-01T11:47:22.316189",
     "exception": false,
     "start_time": "2023-09-01T11:47:22.308611",
     "status": "completed"
    },
    "tags": []
   },
   "source": [
    "**<h2>--> lab-2 connecting github repo with kaggle and executing some numpy programs</h2>**"
   ]
  },
  {
   "cell_type": "code",
   "execution_count": 1,
   "id": "d79598c4",
   "metadata": {
    "_cell_guid": "b1076dfc-b9ad-4769-8c92-a6c4dae69d19",
    "_uuid": "8f2839f25d086af736a60e9eeb907d3b93b6e0e5",
    "execution": {
     "iopub.execute_input": "2023-09-01T11:47:22.331622Z",
     "iopub.status.busy": "2023-09-01T11:47:22.331075Z",
     "iopub.status.idle": "2023-09-01T11:47:22.343745Z",
     "shell.execute_reply": "2023-09-01T11:47:22.342546Z"
    },
    "papermill": {
     "duration": 0.023358,
     "end_time": "2023-09-01T11:47:22.346385",
     "exception": false,
     "start_time": "2023-09-01T11:47:22.323027",
     "status": "completed"
    },
    "tags": []
   },
   "outputs": [],
   "source": [
    "import numpy as np"
   ]
  },
  {
   "cell_type": "code",
   "execution_count": 2,
   "id": "2a744a3f",
   "metadata": {
    "execution": {
     "iopub.execute_input": "2023-09-01T11:47:22.361286Z",
     "iopub.status.busy": "2023-09-01T11:47:22.360541Z",
     "iopub.status.idle": "2023-09-01T11:47:22.368278Z",
     "shell.execute_reply": "2023-09-01T11:47:22.367145Z"
    },
    "papermill": {
     "duration": 0.018172,
     "end_time": "2023-09-01T11:47:22.371073",
     "exception": false,
     "start_time": "2023-09-01T11:47:22.352901",
     "status": "completed"
    },
    "tags": []
   },
   "outputs": [
    {
     "name": "stdout",
     "output_type": "stream",
     "text": [
      "a:\n",
      " [1 2 3]\n"
     ]
    }
   ],
   "source": [
    "a = np.array([1, 2, 3])\n",
    "print(\"a:\\n\", a)"
   ]
  },
  {
   "cell_type": "code",
   "execution_count": 3,
   "id": "602d5284",
   "metadata": {
    "execution": {
     "iopub.execute_input": "2023-09-01T11:47:22.386628Z",
     "iopub.status.busy": "2023-09-01T11:47:22.386208Z",
     "iopub.status.idle": "2023-09-01T11:47:22.391834Z",
     "shell.execute_reply": "2023-09-01T11:47:22.391037Z"
    },
    "papermill": {
     "duration": 0.01632,
     "end_time": "2023-09-01T11:47:22.394458",
     "exception": false,
     "start_time": "2023-09-01T11:47:22.378138",
     "status": "completed"
    },
    "tags": []
   },
   "outputs": [
    {
     "name": "stdout",
     "output_type": "stream",
     "text": [
      "b:\n",
      " [[1 2 3]\n",
      " [4 5 6]\n",
      " [7 8 9]]\n"
     ]
    }
   ],
   "source": [
    "b = np.array([[1, 2, 3], [4, 5, 6], [7, 8, 9]])\n",
    "print(\"b:\\n\", b)"
   ]
  },
  {
   "cell_type": "code",
   "execution_count": 4,
   "id": "57abc769",
   "metadata": {
    "execution": {
     "iopub.execute_input": "2023-09-01T11:47:22.409781Z",
     "iopub.status.busy": "2023-09-01T11:47:22.409350Z",
     "iopub.status.idle": "2023-09-01T11:47:22.417539Z",
     "shell.execute_reply": "2023-09-01T11:47:22.416245Z"
    },
    "papermill": {
     "duration": 0.019146,
     "end_time": "2023-09-01T11:47:22.420152",
     "exception": false,
     "start_time": "2023-09-01T11:47:22.401006",
     "status": "completed"
    },
    "tags": []
   },
   "outputs": [
    {
     "name": "stdout",
     "output_type": "stream",
     "text": [
      "a1: \n",
      " [1 2 3]\n",
      "\n",
      "Number of axes/dimensions in the array:  1\n",
      "Shape of the array:  (3,)\n",
      "Size of the array/Number of Elements in the:  3\n",
      "Type of the elements in the array:  int64\n",
      "Size of the elements in the array:  8\n",
      "Buffer containing the array:  <memory at 0x7fd0dff0b400>\n"
     ]
    }
   ],
   "source": [
    "a1 = np.array([1, 2, 3])\n",
    "print(\"a1: \\n\", a1)\n",
    "\n",
    "print(\"\\nNumber of axes/dimensions in the array: \", a1.ndim)\n",
    "print(\"Shape of the array: \", a1.shape)\n",
    "print(\"Size of the array/Number of Elements in the: \", a1.size)\n",
    "print(\"Type of the elements in the array: \", a1.dtype)\n",
    "print(\"Size of the elements in the array: \", a1.itemsize)\n",
    "print(\"Buffer containing the array: \", a1.data)"
   ]
  },
  {
   "cell_type": "markdown",
   "id": "5644c083",
   "metadata": {
    "papermill": {
     "duration": 0.006675,
     "end_time": "2023-09-01T11:47:22.433734",
     "exception": false,
     "start_time": "2023-09-01T11:47:22.427059",
     "status": "completed"
    },
    "tags": []
   },
   "source": [
    "**<h3>1) creating one dimensions array from list</h3>**"
   ]
  },
  {
   "cell_type": "code",
   "execution_count": 5,
   "id": "270ebb33",
   "metadata": {
    "execution": {
     "iopub.execute_input": "2023-09-01T11:47:22.448841Z",
     "iopub.status.busy": "2023-09-01T11:47:22.448433Z",
     "iopub.status.idle": "2023-09-01T11:47:22.454441Z",
     "shell.execute_reply": "2023-09-01T11:47:22.453210Z"
    },
    "papermill": {
     "duration": 0.016824,
     "end_time": "2023-09-01T11:47:22.457210",
     "exception": false,
     "start_time": "2023-09-01T11:47:22.440386",
     "status": "completed"
    },
    "tags": []
   },
   "outputs": [
    {
     "name": "stdout",
     "output_type": "stream",
     "text": [
      "[1 2 3 4 5]\n"
     ]
    }
   ],
   "source": [
    "array = np.array([1,2,3,4,5])\n",
    "print(array)"
   ]
  },
  {
   "cell_type": "markdown",
   "id": "673b5fc2",
   "metadata": {
    "papermill": {
     "duration": 0.007031,
     "end_time": "2023-09-01T11:47:22.471134",
     "exception": false,
     "start_time": "2023-09-01T11:47:22.464103",
     "status": "completed"
    },
    "tags": []
   },
   "source": [
    "**<h3>2) creating 3x3 matrix that contain values from 2 to 10</h3>**"
   ]
  },
  {
   "cell_type": "code",
   "execution_count": 6,
   "id": "810e55d0",
   "metadata": {
    "execution": {
     "iopub.execute_input": "2023-09-01T11:47:22.486436Z",
     "iopub.status.busy": "2023-09-01T11:47:22.486028Z",
     "iopub.status.idle": "2023-09-01T11:47:22.492388Z",
     "shell.execute_reply": "2023-09-01T11:47:22.491162Z"
    },
    "papermill": {
     "duration": 0.01739,
     "end_time": "2023-09-01T11:47:22.495241",
     "exception": false,
     "start_time": "2023-09-01T11:47:22.477851",
     "status": "completed"
    },
    "tags": []
   },
   "outputs": [
    {
     "name": "stdout",
     "output_type": "stream",
     "text": [
      "[[ 2  3  4]\n",
      " [ 5  6  7]\n",
      " [ 8  9 10]]\n"
     ]
    }
   ],
   "source": [
    "matrix = np.array([[2,3,4],[5,6,7],[8,9,10]])\n",
    "print(matrix)"
   ]
  },
  {
   "cell_type": "markdown",
   "id": "85b7cf01",
   "metadata": {
    "papermill": {
     "duration": 0.006512,
     "end_time": "2023-09-01T11:47:22.508619",
     "exception": false,
     "start_time": "2023-09-01T11:47:22.502107",
     "status": "completed"
    },
    "tags": []
   },
   "source": [
    "**<h3>3) to append values at the end of an array</h3>**"
   ]
  },
  {
   "cell_type": "code",
   "execution_count": 7,
   "id": "55325e59",
   "metadata": {
    "execution": {
     "iopub.execute_input": "2023-09-01T11:47:22.523935Z",
     "iopub.status.busy": "2023-09-01T11:47:22.523517Z",
     "iopub.status.idle": "2023-09-01T11:47:22.530546Z",
     "shell.execute_reply": "2023-09-01T11:47:22.529328Z"
    },
    "papermill": {
     "duration": 0.017929,
     "end_time": "2023-09-01T11:47:22.533298",
     "exception": false,
     "start_time": "2023-09-01T11:47:22.515369",
     "status": "completed"
    },
    "tags": []
   },
   "outputs": [
    {
     "name": "stdout",
     "output_type": "stream",
     "text": [
      "[1 2 3 4 5]\n",
      "[1 2 3 4 5 6 7 8]\n"
     ]
    }
   ],
   "source": [
    "array = np.array([1,2,3,4,5])\n",
    "print(array)\n",
    "array = np.append(array,[6,7,8])\n",
    "print(array)"
   ]
  },
  {
   "cell_type": "markdown",
   "id": "0b530d77",
   "metadata": {
    "papermill": {
     "duration": 0.007483,
     "end_time": "2023-09-01T11:47:22.547937",
     "exception": false,
     "start_time": "2023-09-01T11:47:22.540454",
     "status": "completed"
    },
    "tags": []
   },
   "source": [
    "**<h3>4) to create another shape from an array without changing its data (3x2 to 2x3)</h3>**"
   ]
  },
  {
   "cell_type": "code",
   "execution_count": 8,
   "id": "ac2bc796",
   "metadata": {
    "execution": {
     "iopub.execute_input": "2023-09-01T11:47:22.563775Z",
     "iopub.status.busy": "2023-09-01T11:47:22.563323Z",
     "iopub.status.idle": "2023-09-01T11:47:22.570653Z",
     "shell.execute_reply": "2023-09-01T11:47:22.569470Z"
    },
    "papermill": {
     "duration": 0.018585,
     "end_time": "2023-09-01T11:47:22.573590",
     "exception": false,
     "start_time": "2023-09-01T11:47:22.555005",
     "status": "completed"
    },
    "tags": []
   },
   "outputs": [
    {
     "name": "stdout",
     "output_type": "stream",
     "text": [
      "matrix 2*3 : \n",
      " [[2 3 4]\n",
      " [5 6 7]]\n",
      "matrix 3*2 :  [[2 3]\n",
      " [4 5]\n",
      " [6 7]]\n"
     ]
    }
   ],
   "source": [
    "matrix = np.array([[2,3,4],[5,6,7]])\n",
    "print(\"matrix 2*3 : \\n\", matrix)\n",
    "matrix = np.array([[2,3],[4,5],[6,7]])\n",
    "print(\"matrix 3*2 : \", matrix)"
   ]
  }
 ],
 "kernelspec": {
  "display_name": "Python 3",
  "language": "python",
  "name": "python3"
 },
 "language_info": {
  "codemirror_mode": {
   "name": "ipython",
   "version": 3
  },
  "file_extension": ".py",
  "mimetype": "text/x-python",
  "name": "python",
  "nbconvert_exporter": "python",
  "pygments_lexer": "ipython3",
  "version": "3.6.4"
 },
 "metadata": {
  "kernelspec": {
   "display_name": "Python 3",
   "language": "python",
   "name": "python3"
  },
  "language_info": {
   "codemirror_mode": {
    "name": "ipython",
    "version": 3
   },
   "file_extension": ".py",
   "mimetype": "text/x-python",
   "name": "python",
   "nbconvert_exporter": "python",
   "pygments_lexer": "ipython3",
   "version": "3.10.12"
  },
  "papermill": {
   "default_parameters": {},
   "duration": 5.130106,
   "end_time": "2023-09-01T11:47:23.001568",
   "environment_variables": {},
   "exception": null,
   "input_path": "__notebook__.ipynb",
   "output_path": "__notebook__.ipynb",
   "parameters": {},
   "start_time": "2023-09-01T11:47:17.871462",
   "version": "2.4.0"
  }
 },
 "nbformat": 4,
 "nbformat_minor": 5
}
