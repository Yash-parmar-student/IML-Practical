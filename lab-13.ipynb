{
 "cells": [
  {
   "cell_type": "markdown",
   "id": "a8658708",
   "metadata": {
    "papermill": {
     "duration": 0.002129,
     "end_time": "2023-11-06T05:33:28.142843",
     "exception": false,
     "start_time": "2023-11-06T05:33:28.140714",
     "status": "completed"
    },
    "tags": []
   },
   "source": [
    "**<h1 style=\"color:blue; text-align:center;font-family:cursive;\">Practical-13</h1>**"
   ]
  },
  {
   "cell_type": "markdown",
   "id": "6208ba22",
   "metadata": {
    "papermill": {
     "duration": 0.001389,
     "end_time": "2023-11-06T05:33:28.146186",
     "exception": false,
     "start_time": "2023-11-06T05:33:28.144797",
     "status": "completed"
    },
    "tags": []
   },
   "source": [
    "**<h2>1) Write a Python program to implement KNearest Neighbour supervised machine learning algorithm for given dataset. </h2>**"
   ]
  },
  {
   "cell_type": "code",
   "execution_count": 1,
   "id": "9fd35810",
   "metadata": {
    "execution": {
     "iopub.execute_input": "2023-11-06T05:33:28.153192Z",
     "iopub.status.busy": "2023-11-06T05:33:28.152394Z",
     "iopub.status.idle": "2023-11-06T05:33:30.515732Z",
     "shell.execute_reply": "2023-11-06T05:33:30.514147Z"
    },
    "papermill": {
     "duration": 2.370207,
     "end_time": "2023-11-06T05:33:30.518013",
     "exception": false,
     "start_time": "2023-11-06T05:33:28.147806",
     "status": "completed"
    },
    "tags": []
   },
   "outputs": [
    {
     "name": "stdout",
     "output_type": "stream",
     "text": [
      "Prediction from test data : \n",
      " where R = Rock \n",
      "       M = Mine \n",
      " This is the prediction :\n",
      "['R' 'R' 'R' 'R' 'M' 'R' 'M' 'M' 'M' 'R' 'M' 'R' 'M' 'M' 'M' 'M' 'M' 'M'\n",
      " 'R' 'R' 'M' 'M' 'M' 'M' 'R' 'M' 'R' 'M' 'M' 'M' 'M' 'R' 'R' 'M' 'R' 'M'\n",
      " 'R' 'M' 'M' 'M' 'R' 'M']\n",
      "\n",
      "Confusion Matrix:\n",
      "[[22  5]\n",
      " [ 4 11]]\n",
      "\n",
      "Classification Report:\n",
      "              precision    recall  f1-score   support\n",
      "\n",
      "           M       0.85      0.81      0.83        27\n",
      "           R       0.69      0.73      0.71        15\n",
      "\n",
      "    accuracy                           0.79        42\n",
      "   macro avg       0.77      0.77      0.77        42\n",
      "weighted avg       0.79      0.79      0.79        42\n",
      "\n",
      "\n"
     ]
    }
   ],
   "source": [
    "'''\n",
    "Name: Parmar Yash Vindobhai\n",
    "Enrollment: 216270307022       \n",
    "'''\n",
    "import pandas as pd\n",
    "from sklearn.model_selection import train_test_split\n",
    "from sklearn.neighbors import KNeighborsClassifier\n",
    "from sklearn.metrics import classification_report, confusion_matrix\n",
    "data = pd.read_csv('../input/sonar-mine-dataset/sonar data.csv')\n",
    "\n",
    "X = data.iloc[:, :-1]\n",
    "y = data.iloc[:, -1]\n",
    "\n",
    "X_train, X_test, y_train, y_test = train_test_split(X, y, test_size=0.2, random_state=42)\n",
    "knn = KNeighborsClassifier(n_neighbors=3)\n",
    "\n",
    "knn.fit(X_train, y_train)\n",
    "y_pred = knn.predict(X_test)\n",
    "\n",
    "print(\"Prediction from test data : \\n where R = Rock \\n       M = Mine \\n This is the prediction :\")\n",
    "print(y_pred,end=\"\\n\\n\")\n",
    "\n",
    "print(\"Confusion Matrix:\",confusion_matrix(y_test, y_pred),sep=\"\\n\",end=\"\\n\\n\")\n",
    "print(\"Classification Report:\",classification_report(y_test, y_pred),sep=\"\\n\",end=\"\\n\\n\")\n"
   ]
  }
 ],
 "metadata": {
  "kernelspec": {
   "display_name": "Python 3",
   "language": "python",
   "name": "python3"
  },
  "language_info": {
   "codemirror_mode": {
    "name": "ipython",
    "version": 3
   },
   "file_extension": ".py",
   "mimetype": "text/x-python",
   "name": "python",
   "nbconvert_exporter": "python",
   "pygments_lexer": "ipython3",
   "version": "3.10.12"
  },
  "papermill": {
   "default_parameters": {},
   "duration": 7.081375,
   "end_time": "2023-11-06T05:33:31.143417",
   "environment_variables": {},
   "exception": null,
   "input_path": "__notebook__.ipynb",
   "output_path": "__notebook__.ipynb",
   "parameters": {},
   "start_time": "2023-11-06T05:33:24.062042",
   "version": "2.4.0"
  }
 },
 "nbformat": 4,
 "nbformat_minor": 5
}
